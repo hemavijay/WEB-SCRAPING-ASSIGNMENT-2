{
 "cells": [
  {
   "cell_type": "markdown",
   "id": "5e795633",
   "metadata": {},
   "source": [
    "# Q1. Write a python program to scrape data for “Data Analyst” Job position in “Bangalore” location. \n",
    "You have to scrape the job-title, job-location, company_name, experience_required. You have to scrape first 10\n",
    "jobs data.\n",
    "\n",
    "This task will be done in following steps:\n",
    "1. First get the webpage https://www.naukri.com/\n",
    "2. Enter “Data Analyst” in “Skill, Designations, Companies” field and enter “Bangalore” in “enter the\n",
    "location” field.\n",
    "3. Then click the search button.\n",
    "4. Then scrape the data for the first 10 jobs results you get.\n",
    "5. Finally create a dataframe of the scraped data"
   ]
  },
  {
   "cell_type": "code",
   "execution_count": 1,
   "id": "a27d071a",
   "metadata": {},
   "outputs": [
    {
     "name": "stdout",
     "output_type": "stream",
     "text": [
      "Requirement already satisfied: selenium in c:\\users\\hema\\anaconda3\\lib\\site-packages (4.1.3)\n",
      "Requirement already satisfied: trio-websocket~=0.9 in c:\\users\\hema\\anaconda3\\lib\\site-packages (from selenium) (0.9.2)\n",
      "Requirement already satisfied: urllib3[secure,socks]~=1.26 in c:\\users\\hema\\anaconda3\\lib\\site-packages (from selenium) (1.26.4)\n",
      "Requirement already satisfied: trio~=0.17 in c:\\users\\hema\\anaconda3\\lib\\site-packages (from selenium) (0.20.0)\n",
      "Requirement already satisfied: idna in c:\\users\\hema\\anaconda3\\lib\\site-packages (from trio~=0.17->selenium) (2.10)\n",
      "Requirement already satisfied: cffi>=1.14 in c:\\users\\hema\\anaconda3\\lib\\site-packages (from trio~=0.17->selenium) (1.14.5)\n",
      "Requirement already satisfied: sortedcontainers in c:\\users\\hema\\anaconda3\\lib\\site-packages (from trio~=0.17->selenium) (2.3.0)\n",
      "Requirement already satisfied: attrs>=19.2.0 in c:\\users\\hema\\anaconda3\\lib\\site-packages (from trio~=0.17->selenium) (20.3.0)\n",
      "Requirement already satisfied: outcome in c:\\users\\hema\\anaconda3\\lib\\site-packages (from trio~=0.17->selenium) (1.1.0)\n",
      "Requirement already satisfied: async-generator>=1.9 in c:\\users\\hema\\anaconda3\\lib\\site-packages (from trio~=0.17->selenium) (1.10)\n",
      "Requirement already satisfied: sniffio in c:\\users\\hema\\anaconda3\\lib\\site-packages (from trio~=0.17->selenium) (1.2.0)\n",
      "Requirement already satisfied: pycparser in c:\\users\\hema\\anaconda3\\lib\\site-packages (from cffi>=1.14->trio~=0.17->selenium) (2.20)\n",
      "Requirement already satisfied: wsproto>=0.14 in c:\\users\\hema\\anaconda3\\lib\\site-packages (from trio-websocket~=0.9->selenium) (1.1.0)\n",
      "Requirement already satisfied: pyOpenSSL>=0.14 in c:\\users\\hema\\anaconda3\\lib\\site-packages (from urllib3[secure,socks]~=1.26->selenium) (20.0.1)\n",
      "Requirement already satisfied: certifi in c:\\users\\hema\\anaconda3\\lib\\site-packages (from urllib3[secure,socks]~=1.26->selenium) (2020.12.5)\n",
      "Requirement already satisfied: cryptography>=1.3.4 in c:\\users\\hema\\anaconda3\\lib\\site-packages (from urllib3[secure,socks]~=1.26->selenium) (3.4.7)\n",
      "Requirement already satisfied: PySocks!=1.5.7,<2.0,>=1.5.6 in c:\\users\\hema\\anaconda3\\lib\\site-packages (from urllib3[secure,socks]~=1.26->selenium) (1.7.1)\n",
      "Requirement already satisfied: six>=1.5.2 in c:\\users\\hema\\anaconda3\\lib\\site-packages (from pyOpenSSL>=0.14->urllib3[secure,socks]~=1.26->selenium) (1.15.0)\n",
      "Requirement already satisfied: h11<1,>=0.9.0 in c:\\users\\hema\\anaconda3\\lib\\site-packages (from wsproto>=0.14->trio-websocket~=0.9->selenium) (0.13.0)\n",
      "Note: you may need to restart the kernel to use updated packages.\n"
     ]
    }
   ],
   "source": [
    "pip install selenium"
   ]
  },
  {
   "cell_type": "code",
   "execution_count": 2,
   "id": "340912d9",
   "metadata": {},
   "outputs": [
    {
     "name": "stdout",
     "output_type": "stream",
     "text": [
      "Requirement already satisfied: webdriver_manager in c:\\users\\hema\\anaconda3\\lib\\site-packages (3.5.4)\n",
      "Requirement already satisfied: requests in c:\\users\\hema\\anaconda3\\lib\\site-packages (from webdriver_manager) (2.25.1)\n",
      "Requirement already satisfied: certifi>=2017.4.17 in c:\\users\\hema\\anaconda3\\lib\\site-packages (from requests->webdriver_manager) (2020.12.5)\n",
      "Requirement already satisfied: chardet<5,>=3.0.2 in c:\\users\\hema\\anaconda3\\lib\\site-packages (from requests->webdriver_manager) (4.0.0)\n",
      "Requirement already satisfied: urllib3<1.27,>=1.21.1 in c:\\users\\hema\\anaconda3\\lib\\site-packages (from requests->webdriver_manager) (1.26.4)\n",
      "Requirement already satisfied: idna<3,>=2.5 in c:\\users\\hema\\anaconda3\\lib\\site-packages (from requests->webdriver_manager) (2.10)\n",
      "Note: you may need to restart the kernel to use updated packages.\n"
     ]
    }
   ],
   "source": [
    "pip install webdriver_manager"
   ]
  },
  {
   "cell_type": "code",
   "execution_count": 1,
   "id": "39736012",
   "metadata": {},
   "outputs": [],
   "source": [
    "import selenium\n",
    "import pandas as pd\n",
    "from selenium import webdriver\n",
    "from webdriver_manager.chrome import ChromeDriverManager\n",
    "\n",
    "import warnings\n",
    "warnings.filterwarnings('ignore')\n",
    "import time\n",
    "\n"
   ]
  },
  {
   "cell_type": "code",
   "execution_count": 2,
   "id": "4f137b66",
   "metadata": {},
   "outputs": [],
   "source": [
    "#lets first connect to the web driver\n",
    "driver = webdriver.Chrome(\"C:\\\\Users\\\\hema\\\\OneDrive\\\\Documents\\\\chromedriver_win32\\\\chromedriver.exe\")"
   ]
  },
  {
   "cell_type": "code",
   "execution_count": 3,
   "id": "b2dc5fec",
   "metadata": {},
   "outputs": [],
   "source": [
    "driver=webdriver.Chrome(\"chromedriver.exe\")\n",
    "time.sleep(2)"
   ]
  },
  {
   "cell_type": "code",
   "execution_count": 5,
   "id": "ab5b1b2f",
   "metadata": {},
   "outputs": [],
   "source": [
    "#driver.close()"
   ]
  },
  {
   "cell_type": "code",
   "execution_count": 4,
   "id": "1d2674f7",
   "metadata": {},
   "outputs": [],
   "source": [
    "driver.get('https://www.naukri.com/')"
   ]
  },
  {
   "cell_type": "code",
   "execution_count": 5,
   "id": "5dbcf946",
   "metadata": {},
   "outputs": [],
   "source": [
    "#finding thte element for job search bar\n",
    "\n",
    "designation_field =driver.find_element_by_class_name(\"suggestor-input\")\n",
    "designation_field.send_keys(\"Data Analyst\")\n",
    "\n",
    "location_field = driver.find_element_by_xpath('/html/body/div/div[2]/div[3]/div/div/div[3]/div/div/div/input')\n",
    "location_field.send_keys(\"Bangalore\")"
   ]
  },
  {
   "cell_type": "code",
   "execution_count": 6,
   "id": "abe6f7bf",
   "metadata": {},
   "outputs": [],
   "source": [
    "search_field =driver.find_element_by_xpath('/html/body/div/div[2]/div[3]/div/div/div[6]')\n",
    "search_field.click()"
   ]
  },
  {
   "cell_type": "code",
   "execution_count": 7,
   "id": "ca381edb",
   "metadata": {},
   "outputs": [],
   "source": [
    "#specifying the url of the webpage to be scrapped\n",
    "url = \"https://www.naukri.com/data-analyst-jobs-in-bangalore?k=data%20analyst&l=bangalore\""
   ]
  },
  {
   "cell_type": "code",
   "execution_count": 8,
   "id": "8678cf50",
   "metadata": {},
   "outputs": [],
   "source": [
    "#open the webpage using web drive\n",
    "driver.get(url)"
   ]
  },
  {
   "cell_type": "code",
   "execution_count": 9,
   "id": "68577e40",
   "metadata": {},
   "outputs": [],
   "source": [
    "job_titles=[]\n",
    "location_list =[]"
   ]
  },
  {
   "cell_type": "code",
   "execution_count": 10,
   "id": "c96c9766",
   "metadata": {},
   "outputs": [
    {
     "data": {
      "text/plain": [
       "[<selenium.webdriver.remote.webelement.WebElement (session=\"7eb5dcc44dbed966923c0c79b530e176\", element=\"326fe43a-a768-4f11-87ea-428ca119bc7c\")>,\n",
       " <selenium.webdriver.remote.webelement.WebElement (session=\"7eb5dcc44dbed966923c0c79b530e176\", element=\"e0bd718f-0623-4308-8388-67043c4728a0\")>,\n",
       " <selenium.webdriver.remote.webelement.WebElement (session=\"7eb5dcc44dbed966923c0c79b530e176\", element=\"f17074d0-e662-4f45-9f65-b2f2a669e41e\")>,\n",
       " <selenium.webdriver.remote.webelement.WebElement (session=\"7eb5dcc44dbed966923c0c79b530e176\", element=\"7700d85b-130e-47ed-8874-97b500d9349a\")>]"
      ]
     },
     "execution_count": 10,
     "metadata": {},
     "output_type": "execute_result"
    }
   ],
   "source": [
    "# lets extract all the tags having the job-titles\n",
    "titles_tag=driver.find_elements_by_xpath(\"//a[@class='title fw500 ellipsis']\")    \n",
    "titles_tag[0:4]\n",
    "                                        "
   ]
  },
  {
   "cell_type": "code",
   "execution_count": 11,
   "id": "4fc609eb",
   "metadata": {},
   "outputs": [
    {
     "data": {
      "text/plain": [
       "['Business and Data Analyst',\n",
       " 'SAS Analyst / data Analyst / Business analyst - Sas + SQL',\n",
       " 'Data Analyst I',\n",
       " 'Senior Data Analyst']"
      ]
     },
     "execution_count": 11,
     "metadata": {},
     "output_type": "execute_result"
    }
   ],
   "source": [
    "for i in titles_tag:\n",
    "    titles=i.text\n",
    "    job_titles.append(titles)\n",
    "job_titles[0:4]"
   ]
  },
  {
   "cell_type": "code",
   "execution_count": 12,
   "id": "40ab80ac",
   "metadata": {},
   "outputs": [],
   "source": [
    "jobs =pd.DataFrame({})\n",
    "jobs['title'] =job_titles\n"
   ]
  },
  {
   "cell_type": "code",
   "execution_count": 13,
   "id": "18015b69",
   "metadata": {},
   "outputs": [
    {
     "data": {
      "text/html": [
       "<div>\n",
       "<style scoped>\n",
       "    .dataframe tbody tr th:only-of-type {\n",
       "        vertical-align: middle;\n",
       "    }\n",
       "\n",
       "    .dataframe tbody tr th {\n",
       "        vertical-align: top;\n",
       "    }\n",
       "\n",
       "    .dataframe thead th {\n",
       "        text-align: right;\n",
       "    }\n",
       "</style>\n",
       "<table border=\"1\" class=\"dataframe\">\n",
       "  <thead>\n",
       "    <tr style=\"text-align: right;\">\n",
       "      <th></th>\n",
       "      <th>title</th>\n",
       "    </tr>\n",
       "  </thead>\n",
       "  <tbody>\n",
       "    <tr>\n",
       "      <th>0</th>\n",
       "      <td>Business and Data Analyst</td>\n",
       "    </tr>\n",
       "    <tr>\n",
       "      <th>1</th>\n",
       "      <td>SAS Analyst / data Analyst / Business analyst ...</td>\n",
       "    </tr>\n",
       "    <tr>\n",
       "      <th>2</th>\n",
       "      <td>Data Analyst I</td>\n",
       "    </tr>\n",
       "    <tr>\n",
       "      <th>3</th>\n",
       "      <td>Senior Data Analyst</td>\n",
       "    </tr>\n",
       "    <tr>\n",
       "      <th>4</th>\n",
       "      <td>Senior Data Analyst, Data &amp; Analytics</td>\n",
       "    </tr>\n",
       "    <tr>\n",
       "      <th>5</th>\n",
       "      <td>Hiring - Zonal Data Analyst (Off Role) - Opera...</td>\n",
       "    </tr>\n",
       "    <tr>\n",
       "      <th>6</th>\n",
       "      <td>Senior Data Analyst</td>\n",
       "    </tr>\n",
       "    <tr>\n",
       "      <th>7</th>\n",
       "      <td>Sr Domain Expert -Data Analysts</td>\n",
       "    </tr>\n",
       "    <tr>\n",
       "      <th>8</th>\n",
       "      <td>Data Analyst Sr</td>\n",
       "    </tr>\n",
       "    <tr>\n",
       "      <th>9</th>\n",
       "      <td>Data Analyst II</td>\n",
       "    </tr>\n",
       "  </tbody>\n",
       "</table>\n",
       "</div>"
      ],
      "text/plain": [
       "                                               title\n",
       "0                          Business and Data Analyst\n",
       "1  SAS Analyst / data Analyst / Business analyst ...\n",
       "2                                     Data Analyst I\n",
       "3                                Senior Data Analyst\n",
       "4              Senior Data Analyst, Data & Analytics\n",
       "5  Hiring - Zonal Data Analyst (Off Role) - Opera...\n",
       "6                                Senior Data Analyst\n",
       "7                    Sr Domain Expert -Data Analysts\n",
       "8                                    Data Analyst Sr\n",
       "9                                    Data Analyst II"
      ]
     },
     "execution_count": 13,
     "metadata": {},
     "output_type": "execute_result"
    }
   ],
   "source": [
    "jobs.head(10)"
   ]
  },
  {
   "cell_type": "code",
   "execution_count": null,
   "id": "9dc3e3c8",
   "metadata": {},
   "outputs": [],
   "source": []
  },
  {
   "cell_type": "markdown",
   "id": "6e13cb3e",
   "metadata": {},
   "source": [
    "# Q2. write a python program to scrape data for “Data Scientist” Job position in “Bangalore” location. \n",
    "have to scrape the job-title, job-location, company_name. You have to scrape first 10 jobs data.\n",
    "This task will be done in following steps:\n",
    "1. First get the webpage https://www.naukri.com/\n",
    "2. Enter “Data Scientist” in “Skill, Designations, Companies” field and enter “Bangalore” in “enter the\n",
    "location” field.\n",
    "3. Then click the search button.\n",
    "4. Then scrape the data for the first 10 jobs results you get.\n",
    "5. Finally create a dataframe of the scraped data.\n",
    "\n"
   ]
  },
  {
   "cell_type": "code",
   "execution_count": 14,
   "id": "1136f626",
   "metadata": {},
   "outputs": [],
   "source": [
    "job_list=[]\n",
    "location_list=[]\n",
    "company_name_list=[]\n"
   ]
  },
  {
   "cell_type": "code",
   "execution_count": 15,
   "id": "0d69258d",
   "metadata": {},
   "outputs": [
    {
     "data": {
      "text/plain": [
       "[<selenium.webdriver.remote.webelement.WebElement (session=\"7eb5dcc44dbed966923c0c79b530e176\", element=\"326fe43a-a768-4f11-87ea-428ca119bc7c\")>,\n",
       " <selenium.webdriver.remote.webelement.WebElement (session=\"7eb5dcc44dbed966923c0c79b530e176\", element=\"e0bd718f-0623-4308-8388-67043c4728a0\")>,\n",
       " <selenium.webdriver.remote.webelement.WebElement (session=\"7eb5dcc44dbed966923c0c79b530e176\", element=\"f17074d0-e662-4f45-9f65-b2f2a669e41e\")>,\n",
       " <selenium.webdriver.remote.webelement.WebElement (session=\"7eb5dcc44dbed966923c0c79b530e176\", element=\"7700d85b-130e-47ed-8874-97b500d9349a\")>]"
      ]
     },
     "execution_count": 15,
     "metadata": {},
     "output_type": "execute_result"
    }
   ],
   "source": [
    "# lets extract all the tags having the locations\n",
    "job_tag=driver.find_elements_by_xpath(\"//a[@class='title fw500 ellipsis']\")    \n",
    "job_tag[0:4]"
   ]
  },
  {
   "cell_type": "code",
   "execution_count": 16,
   "id": "9b845b68",
   "metadata": {},
   "outputs": [
    {
     "data": {
      "text/plain": [
       "['Business and Data Analyst',\n",
       " 'SAS Analyst / data Analyst / Business analyst - Sas + SQL',\n",
       " 'Data Analyst I',\n",
       " 'Senior Data Analyst']"
      ]
     },
     "execution_count": 16,
     "metadata": {},
     "output_type": "execute_result"
    }
   ],
   "source": [
    "for l in job_tag:\n",
    "    job=l.text\n",
    "    job_list.append(job)\n",
    "job_list[0:4]"
   ]
  },
  {
   "cell_type": "code",
   "execution_count": 17,
   "id": "afb4efa6",
   "metadata": {},
   "outputs": [
    {
     "data": {
      "text/plain": [
       "[<selenium.webdriver.remote.webelement.WebElement (session=\"7eb5dcc44dbed966923c0c79b530e176\", element=\"ff6b916d-e093-4917-afe2-a822b6acbcec\")>,\n",
       " <selenium.webdriver.remote.webelement.WebElement (session=\"7eb5dcc44dbed966923c0c79b530e176\", element=\"b9bd630a-951d-4161-a73a-c26e28ff9396\")>,\n",
       " <selenium.webdriver.remote.webelement.WebElement (session=\"7eb5dcc44dbed966923c0c79b530e176\", element=\"7c977d80-d7b4-411c-b51a-296675c8824d\")>,\n",
       " <selenium.webdriver.remote.webelement.WebElement (session=\"7eb5dcc44dbed966923c0c79b530e176\", element=\"c1536b16-295f-42f9-a609-9db58dbbf037\")>]"
      ]
     },
     "execution_count": 17,
     "metadata": {},
     "output_type": "execute_result"
    }
   ],
   "source": [
    "# lets extract all the tags having the locations\n",
    "location_tag=driver.find_elements_by_xpath(\"//li[@class='fleft grey-text br2 placeHolderLi location']/span[1]\")    \n",
    "location_tag[0:4]"
   ]
  },
  {
   "cell_type": "code",
   "execution_count": 18,
   "id": "321fe3ff",
   "metadata": {},
   "outputs": [
    {
     "data": {
      "text/plain": [
       "['Bangalore/Bengaluru',\n",
       " 'Bangalore/Bengaluru, Delhi / NCR, Mumbai (All Areas)',\n",
       " 'Bangalore/Bengaluru',\n",
       " 'Bangalore/Bengaluru']"
      ]
     },
     "execution_count": 18,
     "metadata": {},
     "output_type": "execute_result"
    }
   ],
   "source": [
    "for k in location_tag:\n",
    "    location=k.text\n",
    "    location_list.append(location)\n",
    "location_list[0:4]"
   ]
  },
  {
   "cell_type": "code",
   "execution_count": 19,
   "id": "c94e4efb",
   "metadata": {},
   "outputs": [
    {
     "data": {
      "text/plain": [
       "[<selenium.webdriver.remote.webelement.WebElement (session=\"7eb5dcc44dbed966923c0c79b530e176\", element=\"54533c71-8ba8-4986-9b1a-dc5710b22274\")>,\n",
       " <selenium.webdriver.remote.webelement.WebElement (session=\"7eb5dcc44dbed966923c0c79b530e176\", element=\"f859206d-ab2e-4758-93c6-5498cbdc483d\")>,\n",
       " <selenium.webdriver.remote.webelement.WebElement (session=\"7eb5dcc44dbed966923c0c79b530e176\", element=\"b7c27dbf-fa43-43fc-a7ac-4f5ba9d834e6\")>,\n",
       " <selenium.webdriver.remote.webelement.WebElement (session=\"7eb5dcc44dbed966923c0c79b530e176\", element=\"7c6cac9a-600a-4c3c-bbc3-690a84ccf68a\")>]"
      ]
     },
     "execution_count": 19,
     "metadata": {},
     "output_type": "execute_result"
    }
   ],
   "source": [
    "# lets extract all the tags having the company names\n",
    "company_tag=driver.find_elements_by_xpath(\"//a[@class='subTitle ellipsis fleft']\")    \n",
    "company_tag[0:4]"
   ]
  },
  {
   "cell_type": "code",
   "execution_count": 20,
   "id": "c9f63728",
   "metadata": {},
   "outputs": [
    {
     "data": {
      "text/plain": [
       "['CAREERDOST ENTERPRISE',\n",
       " 'Leading US MNC into analytics',\n",
       " 'Bioclinica',\n",
       " 'Shell']"
      ]
     },
     "execution_count": 20,
     "metadata": {},
     "output_type": "execute_result"
    }
   ],
   "source": [
    "for j in company_tag:\n",
    "    company=j.text\n",
    "    company_name_list.append(company)\n",
    "company_name_list[0:4]"
   ]
  },
  {
   "cell_type": "code",
   "execution_count": 21,
   "id": "12afec68",
   "metadata": {},
   "outputs": [
    {
     "name": "stdout",
     "output_type": "stream",
     "text": [
      "20 20 20\n"
     ]
    }
   ],
   "source": [
    "print(len(job_list),len(location_list),len(company_name_list))"
   ]
  },
  {
   "cell_type": "code",
   "execution_count": 22,
   "id": "cc8ff910",
   "metadata": {},
   "outputs": [],
   "source": [
    "df2 =pd.DataFrame({})\n",
    "df2['title'] =job_list\n",
    "df2['Location']=location_list\n",
    "df2['Company_Name']=company_name_list"
   ]
  },
  {
   "cell_type": "code",
   "execution_count": 46,
   "id": "5602de39",
   "metadata": {},
   "outputs": [
    {
     "data": {
      "text/html": [
       "<div>\n",
       "<style scoped>\n",
       "    .dataframe tbody tr th:only-of-type {\n",
       "        vertical-align: middle;\n",
       "    }\n",
       "\n",
       "    .dataframe tbody tr th {\n",
       "        vertical-align: top;\n",
       "    }\n",
       "\n",
       "    .dataframe thead th {\n",
       "        text-align: right;\n",
       "    }\n",
       "</style>\n",
       "<table border=\"1\" class=\"dataframe\">\n",
       "  <thead>\n",
       "    <tr style=\"text-align: right;\">\n",
       "      <th></th>\n",
       "      <th>title</th>\n",
       "      <th>Location</th>\n",
       "      <th>Company_Name</th>\n",
       "    </tr>\n",
       "  </thead>\n",
       "  <tbody>\n",
       "    <tr>\n",
       "      <th>0</th>\n",
       "      <td>Sr Domain Expert -Data Analysts</td>\n",
       "      <td>Bangalore/Bengaluru</td>\n",
       "      <td>Siemens</td>\n",
       "    </tr>\n",
       "    <tr>\n",
       "      <th>1</th>\n",
       "      <td>Senior Data Analyst</td>\n",
       "      <td>Bangalore/Bengaluru</td>\n",
       "      <td>Walmart</td>\n",
       "    </tr>\n",
       "    <tr>\n",
       "      <th>2</th>\n",
       "      <td>Senior Data Analyst</td>\n",
       "      <td>Bangalore/Bengaluru(Old Madras Road)</td>\n",
       "      <td>FINNOVATION TECH SOLUTIONS PRIVATE LIMITED</td>\n",
       "    </tr>\n",
       "    <tr>\n",
       "      <th>3</th>\n",
       "      <td>Data Analyst / Data Engineer</td>\n",
       "      <td>Indore, Pune, Bangalore/Bengaluru</td>\n",
       "      <td>TALENT MAX HR &amp; MANAGEMENT CONSULTANTS</td>\n",
       "    </tr>\n",
       "    <tr>\n",
       "      <th>4</th>\n",
       "      <td>Senior Data Analyst (Digital Services Analytics)</td>\n",
       "      <td>Bangalore/Bengaluru</td>\n",
       "      <td>Dell Technologies</td>\n",
       "    </tr>\n",
       "    <tr>\n",
       "      <th>5</th>\n",
       "      <td>Business Analyst/Data Analyst</td>\n",
       "      <td>Hyderabad/Secunderabad, Bangalore/Bengaluru, D...</td>\n",
       "      <td>Telamon HR Solutions</td>\n",
       "    </tr>\n",
       "    <tr>\n",
       "      <th>6</th>\n",
       "      <td>Senior Data Analyst - KPO</td>\n",
       "      <td>Gurgaon/Gurugram, Bangalore/Bengaluru</td>\n",
       "      <td>Huquo Consulting Pvt. Ltd</td>\n",
       "    </tr>\n",
       "    <tr>\n",
       "      <th>7</th>\n",
       "      <td>Senior Data Analyst</td>\n",
       "      <td>Bangalore/Bengaluru</td>\n",
       "      <td>Cerner</td>\n",
       "    </tr>\n",
       "    <tr>\n",
       "      <th>8</th>\n",
       "      <td>Data Analyst</td>\n",
       "      <td>Bangalore/Bengaluru</td>\n",
       "      <td>Enrich talents</td>\n",
       "    </tr>\n",
       "    <tr>\n",
       "      <th>9</th>\n",
       "      <td>Senior Data Analyst</td>\n",
       "      <td>Chennai, Bangalore/Bengaluru</td>\n",
       "      <td>LatentView</td>\n",
       "    </tr>\n",
       "  </tbody>\n",
       "</table>\n",
       "</div>"
      ],
      "text/plain": [
       "                                              title  \\\n",
       "0                   Sr Domain Expert -Data Analysts   \n",
       "1                               Senior Data Analyst   \n",
       "2                               Senior Data Analyst   \n",
       "3                      Data Analyst / Data Engineer   \n",
       "4  Senior Data Analyst (Digital Services Analytics)   \n",
       "5                     Business Analyst/Data Analyst   \n",
       "6                         Senior Data Analyst - KPO   \n",
       "7                               Senior Data Analyst   \n",
       "8                                      Data Analyst   \n",
       "9                               Senior Data Analyst   \n",
       "\n",
       "                                            Location  \\\n",
       "0                                Bangalore/Bengaluru   \n",
       "1                                Bangalore/Bengaluru   \n",
       "2               Bangalore/Bengaluru(Old Madras Road)   \n",
       "3                  Indore, Pune, Bangalore/Bengaluru   \n",
       "4                                Bangalore/Bengaluru   \n",
       "5  Hyderabad/Secunderabad, Bangalore/Bengaluru, D...   \n",
       "6              Gurgaon/Gurugram, Bangalore/Bengaluru   \n",
       "7                                Bangalore/Bengaluru   \n",
       "8                                Bangalore/Bengaluru   \n",
       "9                       Chennai, Bangalore/Bengaluru   \n",
       "\n",
       "                                 Company_Name  \n",
       "0                                     Siemens  \n",
       "1                                     Walmart  \n",
       "2  FINNOVATION TECH SOLUTIONS PRIVATE LIMITED  \n",
       "3      TALENT MAX HR & MANAGEMENT CONSULTANTS  \n",
       "4                           Dell Technologies  \n",
       "5                        Telamon HR Solutions  \n",
       "6                   Huquo Consulting Pvt. Ltd  \n",
       "7                                      Cerner  \n",
       "8                              Enrich talents  \n",
       "9                                  LatentView  "
      ]
     },
     "execution_count": 46,
     "metadata": {},
     "output_type": "execute_result"
    }
   ],
   "source": [
    "df2.head(10)"
   ]
  },
  {
   "cell_type": "markdown",
   "id": "6464f1d6",
   "metadata": {},
   "source": [
    "# Q3: In this question you have to scrape data using the filters available on the webpage as shown below:\n",
    "You have to use the location and salary filter.\n",
    "You have to scrape data for “Data Scientist” designation for first 10 job results.\n",
    "You have to scrape the job-title, job-location, company name, experience required.\n",
    "The location filter to be used is “Delhi/NCR”. The salary filter to be used is “3-6” lakhs\n",
    "The task will be done as shown in the below steps:\n",
    "1. first get the webpage https://www.naukri.com/\n",
    "2. Enter “Data Scientist” in “Skill, Designations, and Companies” field.\n",
    "3. Then click the search button.\n",
    "4. Then apply the location filter and salary filter by checking the respective boxes\n",
    "5. Then scrape the data for the first 10 jobs results you get.\n",
    "6. Finally create a dataframe of the scraped data"
   ]
  },
  {
   "cell_type": "code",
   "execution_count": 23,
   "id": "238b8ec1",
   "metadata": {},
   "outputs": [],
   "source": [
    "#lets first connect to the web driver\n",
    "driver1 = webdriver.Chrome(\"C:\\\\Users\\\\hema\\\\OneDrive\\\\Documents\\\\chromedriver_win32\\\\chromedriver.exe\")"
   ]
  },
  {
   "cell_type": "code",
   "execution_count": 24,
   "id": "f6eec43f",
   "metadata": {},
   "outputs": [],
   "source": [
    "driver1.get('https://www.naukri.com/')"
   ]
  },
  {
   "cell_type": "code",
   "execution_count": 25,
   "id": "797e9fe2",
   "metadata": {},
   "outputs": [],
   "source": [
    "#finding thte element for job search bar\n",
    "\n",
    "desig_field =driver1.find_element_by_class_name(\"suggestor-input\")\n",
    "desig_field.send_keys(\"Data Analyst\")"
   ]
  },
  {
   "cell_type": "code",
   "execution_count": 26,
   "id": "3640c0e6",
   "metadata": {},
   "outputs": [],
   "source": [
    "search_field1 =driver1.find_element_by_xpath('/html/body/div/div[2]/div[3]/div/div/div[6]')\n",
    "search_field1.click()"
   ]
  },
  {
   "cell_type": "code",
   "execution_count": 27,
   "id": "6377fce6",
   "metadata": {},
   "outputs": [],
   "source": [
    "#specifying the url of the webpage to be scrapped\n",
    "url= \"https://www.naukri.com/data-analyst-jobs?k=data%20analyst\""
   ]
  },
  {
   "cell_type": "code",
   "execution_count": 28,
   "id": "4d340e46",
   "metadata": {},
   "outputs": [],
   "source": [
    "#open the webpage using web drive\n",
    "driver1.get(url)"
   ]
  },
  {
   "cell_type": "code",
   "execution_count": 29,
   "id": "657838a6",
   "metadata": {},
   "outputs": [],
   "source": [
    "salary= driver1.find_element_by_xpath(\"//span[@title='3-6 Lakhs']\")\n",
    "salary.click()"
   ]
  },
  {
   "cell_type": "code",
   "execution_count": 30,
   "id": "1f0b9455",
   "metadata": {},
   "outputs": [],
   "source": [
    "location=driver1.find_element_by_xpath(\"//span[@title='Delhi / NCR']\")\n",
    "location.click()"
   ]
  },
  {
   "cell_type": "code",
   "execution_count": 31,
   "id": "d20d4215",
   "metadata": {},
   "outputs": [],
   "source": [
    "url=\"https://www.naukri.com/data-analyst-jobs?k=data%20analyst&ctcFilter=3to6&cityTypeGid=9508\""
   ]
  },
  {
   "cell_type": "code",
   "execution_count": 32,
   "id": "ae9a0003",
   "metadata": {},
   "outputs": [],
   "source": [
    "job_title = [] \n",
    "job_location = []\n",
    "company_name = []\n",
    "experience = []   "
   ]
  },
  {
   "cell_type": "code",
   "execution_count": 33,
   "id": "08085f6f",
   "metadata": {},
   "outputs": [
    {
     "data": {
      "text/plain": [
       "[<selenium.webdriver.remote.webelement.WebElement (session=\"f0d34808a5a81c9cd2ac8c752aae87aa\", element=\"565d0df3-008f-4aeb-9bb7-2a0f940a8835\")>,\n",
       " <selenium.webdriver.remote.webelement.WebElement (session=\"f0d34808a5a81c9cd2ac8c752aae87aa\", element=\"85f949e9-e5cf-4d9f-ade7-ce75983d416d\")>]"
      ]
     },
     "execution_count": 33,
     "metadata": {},
     "output_type": "execute_result"
    }
   ],
   "source": [
    "job_tit=driver1.find_elements_by_xpath(\"//a[@class='title fw500 ellipsis']\")     \n",
    "job_tit[0:2]"
   ]
  },
  {
   "cell_type": "code",
   "execution_count": 34,
   "id": "0b637057",
   "metadata": {},
   "outputs": [
    {
     "data": {
      "text/plain": [
       "['Data Analyst',\n",
       " 'Hiring - Zonal Data Analyst (Off Role) - Operations - Bangalore & Delh']"
      ]
     },
     "execution_count": 34,
     "metadata": {},
     "output_type": "execute_result"
    }
   ],
   "source": [
    "for a in job_tit:\n",
    "    tit1=a.text\n",
    "    job_title.append(tit1)\n",
    "job_title[0:2]"
   ]
  },
  {
   "cell_type": "code",
   "execution_count": 35,
   "id": "89e387bc",
   "metadata": {},
   "outputs": [
    {
     "data": {
      "text/plain": [
       "[<selenium.webdriver.remote.webelement.WebElement (session=\"f0d34808a5a81c9cd2ac8c752aae87aa\", element=\"b7e6452e-26e7-48a5-a065-4139fbd3fa1c\")>,\n",
       " <selenium.webdriver.remote.webelement.WebElement (session=\"f0d34808a5a81c9cd2ac8c752aae87aa\", element=\"9ca51475-6b1c-4dfe-b9a8-8804eaadd725\")>]"
      ]
     },
     "execution_count": 35,
     "metadata": {},
     "output_type": "execute_result"
    }
   ],
   "source": [
    "job_loc = driver1.find_elements_by_xpath(\"//li[@class='fleft grey-text br2 placeHolderLi location']/span[1]\")\n",
    "job_loc[0:2]"
   ]
  },
  {
   "cell_type": "code",
   "execution_count": 36,
   "id": "de97b40c",
   "metadata": {},
   "outputs": [
    {
     "data": {
      "text/plain": [
       "['Gurgaon/Gurugram', 'New Delhi, Bangalore/Bengaluru']"
      ]
     },
     "execution_count": 36,
     "metadata": {},
     "output_type": "execute_result"
    }
   ],
   "source": [
    "for x in job_loc:\n",
    "    loc1=x.text\n",
    "    job_location.append(loc1)\n",
    "job_location[0:2]"
   ]
  },
  {
   "cell_type": "code",
   "execution_count": 37,
   "id": "6bb04638",
   "metadata": {},
   "outputs": [
    {
     "data": {
      "text/plain": [
       "[<selenium.webdriver.remote.webelement.WebElement (session=\"f0d34808a5a81c9cd2ac8c752aae87aa\", element=\"3856dc7d-c85d-4605-8a9e-32ebfe4069a7\")>,\n",
       " <selenium.webdriver.remote.webelement.WebElement (session=\"f0d34808a5a81c9cd2ac8c752aae87aa\", element=\"34098a4b-7214-4d07-8a59-3a2f9cd92038\")>]"
      ]
     },
     "execution_count": 37,
     "metadata": {},
     "output_type": "execute_result"
    }
   ],
   "source": [
    "comp = driver1.find_elements_by_xpath(\"//a[@class='subTitle ellipsis fleft']\")\n",
    "comp[0:2]"
   ]
  },
  {
   "cell_type": "code",
   "execution_count": 38,
   "id": "2b063beb",
   "metadata": {},
   "outputs": [
    {
     "data": {
      "text/plain": [
       "['TOTAL MARKETING SUPPORT INDIA PRIVATE LIMITED', 'Rupeek']"
      ]
     },
     "execution_count": 38,
     "metadata": {},
     "output_type": "execute_result"
    }
   ],
   "source": [
    "for y in comp:\n",
    "    comp1=y.text\n",
    "    company_name.append(comp1)\n",
    "company_name[0:2]"
   ]
  },
  {
   "cell_type": "code",
   "execution_count": 39,
   "id": "c750b963",
   "metadata": {},
   "outputs": [
    {
     "data": {
      "text/plain": [
       "[<selenium.webdriver.remote.webelement.WebElement (session=\"f0d34808a5a81c9cd2ac8c752aae87aa\", element=\"f51b6be8-a29e-4277-81ce-e213dddc64e1\")>]"
      ]
     },
     "execution_count": 39,
     "metadata": {},
     "output_type": "execute_result"
    }
   ],
   "source": [
    "exp = driver1.find_elements_by_xpath(\"//li[@class='fleft grey-text br2 placeHolderLi date']/span[1]\")\n",
    "exp[0:2]"
   ]
  },
  {
   "cell_type": "code",
   "execution_count": 40,
   "id": "2cd53170",
   "metadata": {},
   "outputs": [
    {
     "data": {
      "text/plain": [
       "['03 May']"
      ]
     },
     "execution_count": 40,
     "metadata": {},
     "output_type": "execute_result"
    }
   ],
   "source": [
    "for z in exp:\n",
    "    exp1=z.text\n",
    "    experience.append(exp1)\n",
    "experience[0:2]"
   ]
  },
  {
   "cell_type": "code",
   "execution_count": 41,
   "id": "222f150f",
   "metadata": {},
   "outputs": [
    {
     "name": "stdout",
     "output_type": "stream",
     "text": [
      "20 20 20 1\n"
     ]
    }
   ],
   "source": [
    "print(len(job_title),len(job_location),len(company_name),len(experience))"
   ]
  },
  {
   "cell_type": "code",
   "execution_count": 42,
   "id": "77c8be78",
   "metadata": {},
   "outputs": [],
   "source": [
    "df3 =pd.DataFrame({})\n",
    "df3['Job title'] =job_title\n",
    "df3['Job Location']=job_location\n",
    "df3['Company_Name']=company_name\n",
    "#df3['Experience']= experience"
   ]
  },
  {
   "cell_type": "code",
   "execution_count": 43,
   "id": "dbbc769e",
   "metadata": {},
   "outputs": [
    {
     "data": {
      "text/html": [
       "<div>\n",
       "<style scoped>\n",
       "    .dataframe tbody tr th:only-of-type {\n",
       "        vertical-align: middle;\n",
       "    }\n",
       "\n",
       "    .dataframe tbody tr th {\n",
       "        vertical-align: top;\n",
       "    }\n",
       "\n",
       "    .dataframe thead th {\n",
       "        text-align: right;\n",
       "    }\n",
       "</style>\n",
       "<table border=\"1\" class=\"dataframe\">\n",
       "  <thead>\n",
       "    <tr style=\"text-align: right;\">\n",
       "      <th></th>\n",
       "      <th>Job title</th>\n",
       "      <th>Job Location</th>\n",
       "      <th>Company_Name</th>\n",
       "    </tr>\n",
       "  </thead>\n",
       "  <tbody>\n",
       "    <tr>\n",
       "      <th>0</th>\n",
       "      <td>Data Analyst</td>\n",
       "      <td>Gurgaon/Gurugram</td>\n",
       "      <td>TOTAL MARKETING SUPPORT INDIA PRIVATE LIMITED</td>\n",
       "    </tr>\n",
       "    <tr>\n",
       "      <th>1</th>\n",
       "      <td>Hiring - Zonal Data Analyst (Off Role) - Opera...</td>\n",
       "      <td>New Delhi, Bangalore/Bengaluru</td>\n",
       "      <td>Rupeek</td>\n",
       "    </tr>\n",
       "    <tr>\n",
       "      <th>2</th>\n",
       "      <td>Job opportunity For the position of Financial ...</td>\n",
       "      <td>Gurgaon/Gurugram</td>\n",
       "      <td>NIRVANA SOLUTIONS INDIA PRIVATE LIMITED</td>\n",
       "    </tr>\n",
       "    <tr>\n",
       "      <th>3</th>\n",
       "      <td>Urgent opening For AM - Data Analyst Analytics...</td>\n",
       "      <td>Gurgaon/Gurugram</td>\n",
       "      <td>Pramerica Life</td>\n",
       "    </tr>\n",
       "    <tr>\n",
       "      <th>4</th>\n",
       "      <td>Hiring - Healthcare Data Analyst- US Healthcar...</td>\n",
       "      <td>Noida</td>\n",
       "      <td>KOZENT TEC PRIVATE LIMITED</td>\n",
       "    </tr>\n",
       "    <tr>\n",
       "      <th>5</th>\n",
       "      <td>Speech Analyst - Data Miner</td>\n",
       "      <td>Gurgaon/Gurugram, Bangalore/Bengaluru</td>\n",
       "      <td>Concentrix Services India Private Limited.</td>\n",
       "    </tr>\n",
       "    <tr>\n",
       "      <th>6</th>\n",
       "      <td>Jeevansathi.com is hiring For Product Operatio...</td>\n",
       "      <td>Noida</td>\n",
       "      <td>Info Edge India</td>\n",
       "    </tr>\n",
       "    <tr>\n",
       "      <th>7</th>\n",
       "      <td>Sr . Data Analyst</td>\n",
       "      <td>Gurgaon/Gurugram</td>\n",
       "      <td>Also Energy</td>\n",
       "    </tr>\n",
       "    <tr>\n",
       "      <th>8</th>\n",
       "      <td>Data Analyst</td>\n",
       "      <td>Gurgaon/Gurugram</td>\n",
       "      <td>Redian Software Pvt Ltd</td>\n",
       "    </tr>\n",
       "    <tr>\n",
       "      <th>9</th>\n",
       "      <td>Data Analyst</td>\n",
       "      <td>Delhi / NCR(Ghitorni)</td>\n",
       "      <td>IB Monotaro Private Limited</td>\n",
       "    </tr>\n",
       "  </tbody>\n",
       "</table>\n",
       "</div>"
      ],
      "text/plain": [
       "                                           Job title  \\\n",
       "0                                       Data Analyst   \n",
       "1  Hiring - Zonal Data Analyst (Off Role) - Opera...   \n",
       "2  Job opportunity For the position of Financial ...   \n",
       "3  Urgent opening For AM - Data Analyst Analytics...   \n",
       "4  Hiring - Healthcare Data Analyst- US Healthcar...   \n",
       "5                        Speech Analyst - Data Miner   \n",
       "6  Jeevansathi.com is hiring For Product Operatio...   \n",
       "7                                  Sr . Data Analyst   \n",
       "8                                       Data Analyst   \n",
       "9                                       Data Analyst   \n",
       "\n",
       "                            Job Location  \\\n",
       "0                       Gurgaon/Gurugram   \n",
       "1         New Delhi, Bangalore/Bengaluru   \n",
       "2                       Gurgaon/Gurugram   \n",
       "3                       Gurgaon/Gurugram   \n",
       "4                                  Noida   \n",
       "5  Gurgaon/Gurugram, Bangalore/Bengaluru   \n",
       "6                                  Noida   \n",
       "7                       Gurgaon/Gurugram   \n",
       "8                       Gurgaon/Gurugram   \n",
       "9                  Delhi / NCR(Ghitorni)   \n",
       "\n",
       "                                    Company_Name  \n",
       "0  TOTAL MARKETING SUPPORT INDIA PRIVATE LIMITED  \n",
       "1                                         Rupeek  \n",
       "2        NIRVANA SOLUTIONS INDIA PRIVATE LIMITED  \n",
       "3                                 Pramerica Life  \n",
       "4                     KOZENT TEC PRIVATE LIMITED  \n",
       "5     Concentrix Services India Private Limited.  \n",
       "6                                Info Edge India  \n",
       "7                                    Also Energy  \n",
       "8                        Redian Software Pvt Ltd  \n",
       "9                    IB Monotaro Private Limited  "
      ]
     },
     "execution_count": 43,
     "metadata": {},
     "output_type": "execute_result"
    }
   ],
   "source": [
    "df3.head(10)"
   ]
  },
  {
   "cell_type": "markdown",
   "id": "aa3330d6",
   "metadata": {},
   "source": [
    "# Q4: Scrape data of first 100 sunglasses listings on flipkart.com. You have to scrape four attributes:\n",
    "1. Brand\n",
    "2. Product Description\n",
    "3. Price\n",
    "\n",
    "To scrape the data you have to go through following steps:\n",
    "1. Go to Flipkart webpage by url : https://www.flipkart.com/\n",
    "2. Enter “sunglasses” in the search field where “search for products, brands andmore” is written and\n",
    "click the search icon\n",
    "3. After that you will reach to the page having a lot of sunglasses. From this pageyou can scrap the\n",
    "required data as usual"
   ]
  },
  {
   "cell_type": "code",
   "execution_count": 44,
   "id": "9813eed3",
   "metadata": {},
   "outputs": [],
   "source": [
    "#lets first connect to the web driver\n",
    "driver4 = webdriver.Chrome(\"C:\\\\Users\\\\hema\\\\OneDrive\\\\Documents\\\\chromedriver_win32\\\\chromedriver.exe\")"
   ]
  },
  {
   "cell_type": "code",
   "execution_count": 45,
   "id": "ec68c205",
   "metadata": {},
   "outputs": [],
   "source": [
    "driver4.get('https://www.flipkart.com/')"
   ]
  },
  {
   "cell_type": "code",
   "execution_count": 46,
   "id": "4d081ad4",
   "metadata": {},
   "outputs": [],
   "source": [
    "#finding thte element for sunglass search\n",
    "\n",
    "get_field =driver4.find_element_by_class_name(\"_3704LK\")\n",
    "get_field.send_keys(\"sunglasses\")"
   ]
  },
  {
   "cell_type": "code",
   "execution_count": 47,
   "id": "6b5dc100",
   "metadata": {},
   "outputs": [],
   "source": [
    "search_field4 =driver4.find_element_by_xpath(\"//button[@class='L0Z3Pu']\")\n",
    "search_field4.submit()"
   ]
  },
  {
   "cell_type": "code",
   "execution_count": 48,
   "id": "a4b879c1",
   "metadata": {},
   "outputs": [],
   "source": [
    "url4='https://www.flipkart.com/search?q=sunglasses&otracker=search&otracker1=search&marketplace=FLIPKART&as-show=on&as=off'"
   ]
  },
  {
   "cell_type": "code",
   "execution_count": 49,
   "id": "476d58b6",
   "metadata": {},
   "outputs": [],
   "source": [
    "brand_name =[]\n",
    "prod_des = []\n",
    "price =[]"
   ]
  },
  {
   "cell_type": "code",
   "execution_count": 50,
   "id": "8c6b76d0",
   "metadata": {},
   "outputs": [
    {
     "data": {
      "text/plain": [
       "[<selenium.webdriver.remote.webelement.WebElement (session=\"4442666212cb889f74dde6ff22812e4a\", element=\"4db86c28-3fc2-47a5-b184-782f5cc5f105\")>,\n",
       " <selenium.webdriver.remote.webelement.WebElement (session=\"4442666212cb889f74dde6ff22812e4a\", element=\"31b365fd-0017-47f1-8804-69d7f04beb7c\")>]"
      ]
     },
     "execution_count": 50,
     "metadata": {},
     "output_type": "execute_result"
    }
   ],
   "source": [
    "#scrap for the brand of the sunclasses\n",
    "\n",
    "glass_brand=driver4.find_elements_by_xpath(\"//div[@class='_2WkVRV']\")     \n",
    "glass_brand[0:2]"
   ]
  },
  {
   "cell_type": "code",
   "execution_count": 51,
   "id": "b74bc169",
   "metadata": {},
   "outputs": [
    {
     "data": {
      "text/plain": [
       "['Elligator', 'Fastrack']"
      ]
     },
     "execution_count": 51,
     "metadata": {},
     "output_type": "execute_result"
    }
   ],
   "source": [
    "for a in glass_brand:\n",
    "    brand=a.text\n",
    "    brand_name.append(brand)\n",
    "brand_name[0:2]"
   ]
  },
  {
   "cell_type": "code",
   "execution_count": 52,
   "id": "b46d8185",
   "metadata": {},
   "outputs": [
    {
     "data": {
      "text/plain": [
       "[<selenium.webdriver.remote.webelement.WebElement (session=\"4442666212cb889f74dde6ff22812e4a\", element=\"4db86c28-3fc2-47a5-b184-782f5cc5f105\")>,\n",
       " <selenium.webdriver.remote.webelement.WebElement (session=\"4442666212cb889f74dde6ff22812e4a\", element=\"31b365fd-0017-47f1-8804-69d7f04beb7c\")>]"
      ]
     },
     "execution_count": 52,
     "metadata": {},
     "output_type": "execute_result"
    }
   ],
   "source": [
    "#scrap for the description of the sunclasses\n",
    "glass_des = driver4.find_elements_by_xpath(\"//div[@class='_2WkVRV']\")\n",
    "glass_des[0:2]"
   ]
  },
  {
   "cell_type": "code",
   "execution_count": 53,
   "id": "9ecd9e52",
   "metadata": {},
   "outputs": [
    {
     "data": {
      "text/plain": [
       "['Elligator', 'Fastrack']"
      ]
     },
     "execution_count": 53,
     "metadata": {},
     "output_type": "execute_result"
    }
   ],
   "source": [
    "for b in glass_des:\n",
    "    des=b.text\n",
    "    prod_des.append(des)\n",
    "prod_des[0:2]"
   ]
  },
  {
   "cell_type": "code",
   "execution_count": 54,
   "id": "c3363dd3",
   "metadata": {},
   "outputs": [
    {
     "data": {
      "text/plain": [
       "[<selenium.webdriver.remote.webelement.WebElement (session=\"4442666212cb889f74dde6ff22812e4a\", element=\"2a9643b6-d635-4ef9-8bd9-05913b08ce69\")>,\n",
       " <selenium.webdriver.remote.webelement.WebElement (session=\"4442666212cb889f74dde6ff22812e4a\", element=\"9e53eabc-75fd-4338-b3fa-ef02ba49351b\")>]"
      ]
     },
     "execution_count": 54,
     "metadata": {},
     "output_type": "execute_result"
    }
   ],
   "source": [
    "#scrap the price for the sunglasses\n",
    "\n",
    "glass_price=driver4.find_elements_by_xpath(\"//div[@class='_30jeq3']\")     \n",
    "glass_price[0:2]\n"
   ]
  },
  {
   "cell_type": "code",
   "execution_count": 55,
   "id": "bf88786a",
   "metadata": {},
   "outputs": [
    {
     "data": {
      "text/plain": [
       "['₹245', '₹589']"
      ]
     },
     "execution_count": 55,
     "metadata": {},
     "output_type": "execute_result"
    }
   ],
   "source": [
    "for c in glass_price:\n",
    "    val=c.text\n",
    "    price.append(val)\n",
    "price[0:2]"
   ]
  },
  {
   "cell_type": "code",
   "execution_count": 56,
   "id": "a22230a1",
   "metadata": {},
   "outputs": [
    {
     "name": "stdout",
     "output_type": "stream",
     "text": [
      "40 40 40\n"
     ]
    }
   ],
   "source": [
    "print(len(brand_name),len(prod_des),len(price))"
   ]
  },
  {
   "cell_type": "code",
   "execution_count": 57,
   "id": "723ee7da",
   "metadata": {},
   "outputs": [],
   "source": [
    "df4 =pd.DataFrame({})\n",
    "df4['Brand name'] =brand_name\n",
    "df4['product description']=prod_des\n",
    "df4['Price']=price"
   ]
  },
  {
   "cell_type": "code",
   "execution_count": 58,
   "id": "6de85d1b",
   "metadata": {},
   "outputs": [],
   "source": [
    "start =0\n",
    "end =4\n",
    "\n",
    "for page in range(start,end):\n",
    "    glass_brand=driver4.find_elements_by_xpath(\"//div[@class='_2WkVRV']\")     \n",
    "    glass_brand[0:2]\n",
    "    \n",
    "    for a in glass_brand:\n",
    "        brand=a.text\n",
    "        brand_name.append(brand)\n",
    "    brand_name[0:2]\n",
    "\n",
    "    glass_des = driver4.find_elements_by_xpath(\"//div[@class='_2WkVRV']\")\n",
    "    glass_des[0:2]\n",
    "    \n",
    "    for b in glass_des:\n",
    "        des=b.text\n",
    "        prod_des.append(des)\n",
    "    prod_des[0:2]\n",
    "    \n",
    "    glass_price=driver4.find_elements_by_xpath(\"//div[@class='_30jeq3']\")     \n",
    "    glass_price[0:2]\n",
    "    \n",
    "    for c in glass_price:\n",
    "        val=c.text\n",
    "        price.append(val)\n",
    "    price[0:2]\n",
    "    \n",
    "    nxt_button =driver4.find_elements_by_xpath(\"//a[@class='_1LKTO3']\")\n",
    "    \n",
    "    try:\n",
    "        driver4.get(nxt_button[1].get_attribute('href'))\n",
    "    except:\n",
    "        driver4.get(nxt_button[0].get_attribute('href'))\n",
    "        "
   ]
  },
  {
   "cell_type": "code",
   "execution_count": 59,
   "id": "35bed880",
   "metadata": {},
   "outputs": [
    {
     "name": "stdout",
     "output_type": "stream",
     "text": [
      "200 200 200\n"
     ]
    }
   ],
   "source": [
    "print(len(brand_name),len(prod_des),len(price))"
   ]
  },
  {
   "cell_type": "code",
   "execution_count": 60,
   "id": "0ba182b7",
   "metadata": {},
   "outputs": [],
   "source": [
    "df4 =pd.DataFrame({})\n",
    "df4['Brand name'] =brand_name\n",
    "df4['product description']=prod_des\n",
    "df4['Price']=price"
   ]
  },
  {
   "cell_type": "code",
   "execution_count": 61,
   "id": "3628e946",
   "metadata": {},
   "outputs": [
    {
     "data": {
      "text/html": [
       "<div>\n",
       "<style scoped>\n",
       "    .dataframe tbody tr th:only-of-type {\n",
       "        vertical-align: middle;\n",
       "    }\n",
       "\n",
       "    .dataframe tbody tr th {\n",
       "        vertical-align: top;\n",
       "    }\n",
       "\n",
       "    .dataframe thead th {\n",
       "        text-align: right;\n",
       "    }\n",
       "</style>\n",
       "<table border=\"1\" class=\"dataframe\">\n",
       "  <thead>\n",
       "    <tr style=\"text-align: right;\">\n",
       "      <th></th>\n",
       "      <th>Brand name</th>\n",
       "      <th>product description</th>\n",
       "      <th>Price</th>\n",
       "    </tr>\n",
       "  </thead>\n",
       "  <tbody>\n",
       "    <tr>\n",
       "      <th>0</th>\n",
       "      <td>Elligator</td>\n",
       "      <td>Elligator</td>\n",
       "      <td>₹245</td>\n",
       "    </tr>\n",
       "    <tr>\n",
       "      <th>1</th>\n",
       "      <td>Fastrack</td>\n",
       "      <td>Fastrack</td>\n",
       "      <td>₹589</td>\n",
       "    </tr>\n",
       "    <tr>\n",
       "      <th>2</th>\n",
       "      <td>PIRASO</td>\n",
       "      <td>PIRASO</td>\n",
       "      <td>₹199</td>\n",
       "    </tr>\n",
       "    <tr>\n",
       "      <th>3</th>\n",
       "      <td>Fastrack</td>\n",
       "      <td>Fastrack</td>\n",
       "      <td>₹597</td>\n",
       "    </tr>\n",
       "    <tr>\n",
       "      <th>4</th>\n",
       "      <td>New Specs</td>\n",
       "      <td>New Specs</td>\n",
       "      <td>₹219</td>\n",
       "    </tr>\n",
       "    <tr>\n",
       "      <th>...</th>\n",
       "      <td>...</td>\n",
       "      <td>...</td>\n",
       "      <td>...</td>\n",
       "    </tr>\n",
       "    <tr>\n",
       "      <th>95</th>\n",
       "      <td>AISLIN</td>\n",
       "      <td>AISLIN</td>\n",
       "      <td>₹1,248</td>\n",
       "    </tr>\n",
       "    <tr>\n",
       "      <th>96</th>\n",
       "      <td>Roadster</td>\n",
       "      <td>Roadster</td>\n",
       "      <td>₹599</td>\n",
       "    </tr>\n",
       "    <tr>\n",
       "      <th>97</th>\n",
       "      <td>LIZA ANGEL</td>\n",
       "      <td>LIZA ANGEL</td>\n",
       "      <td>₹159</td>\n",
       "    </tr>\n",
       "    <tr>\n",
       "      <th>98</th>\n",
       "      <td>Lee Topper</td>\n",
       "      <td>Lee Topper</td>\n",
       "      <td>₹226</td>\n",
       "    </tr>\n",
       "    <tr>\n",
       "      <th>99</th>\n",
       "      <td>NuVew</td>\n",
       "      <td>NuVew</td>\n",
       "      <td>₹205</td>\n",
       "    </tr>\n",
       "  </tbody>\n",
       "</table>\n",
       "<p>100 rows × 3 columns</p>\n",
       "</div>"
      ],
      "text/plain": [
       "    Brand name product description   Price\n",
       "0    Elligator           Elligator    ₹245\n",
       "1     Fastrack            Fastrack    ₹589\n",
       "2       PIRASO              PIRASO    ₹199\n",
       "3     Fastrack            Fastrack    ₹597\n",
       "4    New Specs           New Specs    ₹219\n",
       "..         ...                 ...     ...\n",
       "95      AISLIN              AISLIN  ₹1,248\n",
       "96    Roadster            Roadster    ₹599\n",
       "97  LIZA ANGEL          LIZA ANGEL    ₹159\n",
       "98  Lee Topper          Lee Topper    ₹226\n",
       "99       NuVew               NuVew    ₹205\n",
       "\n",
       "[100 rows x 3 columns]"
      ]
     },
     "execution_count": 61,
     "metadata": {},
     "output_type": "execute_result"
    }
   ],
   "source": [
    "df4.head(100)"
   ]
  },
  {
   "cell_type": "markdown",
   "id": "99ba63c0",
   "metadata": {},
   "source": [
    "# Q5: Scrape 100 reviews data from flipkart.com for iphone11 phone. You have to go the link:\n",
    "https://www.flipkart.com/apple-iphone-11-black-64-gb-includes- earpods-power\u0002adapter/p/itm0f37c2240b217?pid=MOBFKCTSVZAXUHGR&lid=LSTMOBFKCTSVZAXUHGREPBFGI&marketplace.\n",
    "When you will open the above link you will reach to the below shown webpage\n",
    "As shown in the above page you have to scrape the tick marked attributes.These are:\n",
    "1. Rating\n",
    "2. Review summary\n",
    "3. Full review\n",
    "4. You have to scrape this data for first 100 reviews. \n"
   ]
  },
  {
   "cell_type": "code",
   "execution_count": 62,
   "id": "da47f109",
   "metadata": {},
   "outputs": [],
   "source": [
    "#lets first connect to the web driver\n",
    "driver5 = webdriver.Chrome(\"C:\\\\Users\\\\hema\\\\OneDrive\\\\Documents\\\\chromedriver_win32\\\\chromedriver.exe\")"
   ]
  },
  {
   "cell_type": "code",
   "execution_count": 63,
   "id": "77d163f3",
   "metadata": {},
   "outputs": [],
   "source": [
    "driver5.get('https:www.flipkart.com/apple-iphone-11-black-64-gb-includes- earpods-power\u0002adapter/p/itm0f37c2240b217?pid=MOBFKCTSVZAXUHGR&lid=LSTMOBFKCTSVZAXUHGREPBFGI&marketplace/')"
   ]
  },
  {
   "cell_type": "code",
   "execution_count": 64,
   "id": "a98e05b5",
   "metadata": {},
   "outputs": [
    {
     "data": {
      "text/plain": [
       "[<selenium.webdriver.remote.webelement.WebElement (session=\"3b72d1f1a14334b5718288e91a119f8f\", element=\"17ff7a4a-bab8-4393-9196-ae89de8c116c\")>]"
      ]
     },
     "execution_count": 64,
     "metadata": {},
     "output_type": "execute_result"
    }
   ],
   "source": [
    "all_review = driver5.find_elements_by_xpath(\"//div[@class='_3UAT2v _16PBlm']\")\n",
    "all_review[0:2]"
   ]
  },
  {
   "cell_type": "code",
   "execution_count": 65,
   "id": "c28c9b1d",
   "metadata": {},
   "outputs": [],
   "source": [
    "driver5.get('https://www.flipkart.com/apple-iphone-11-black-64-gb-includes-earpods-power-adapter/product-reviews/itm0f37c2240b217?pid=MOBFKCTSVZAXUHGR&lid=LSTMOBFKCTSVZAXUHGREPBFGI&marketplace=FLIPKART')"
   ]
  },
  {
   "cell_type": "code",
   "execution_count": 66,
   "id": "25603b9b",
   "metadata": {},
   "outputs": [],
   "source": [
    "phone_rating =[]\n",
    "phone_review_sum = []\n",
    "phone_full_review =[]"
   ]
  },
  {
   "cell_type": "code",
   "execution_count": 67,
   "id": "48a48a2d",
   "metadata": {},
   "outputs": [
    {
     "data": {
      "text/plain": [
       "[<selenium.webdriver.remote.webelement.WebElement (session=\"3b72d1f1a14334b5718288e91a119f8f\", element=\"04f1daa7-d9c7-4b7f-b1fb-e221ecacc5e4\")>,\n",
       " <selenium.webdriver.remote.webelement.WebElement (session=\"3b72d1f1a14334b5718288e91a119f8f\", element=\"ef69a4a5-8e61-4259-8ba7-ea39107f468d\")>]"
      ]
     },
     "execution_count": 67,
     "metadata": {},
     "output_type": "execute_result"
    }
   ],
   "source": [
    "rating =driver5.find_elements_by_xpath(\"//div[@class='_3LWZlK _1BLPMq']\") \n",
    "rating[0:2]"
   ]
  },
  {
   "cell_type": "code",
   "execution_count": 68,
   "id": "9371b3c8",
   "metadata": {},
   "outputs": [
    {
     "data": {
      "text/plain": [
       "['5', '5']"
      ]
     },
     "execution_count": 68,
     "metadata": {},
     "output_type": "execute_result"
    }
   ],
   "source": [
    "for l in rating:\n",
    "    rat=l.text\n",
    "    phone_rating.append(rat)\n",
    "phone_rating[0:2]"
   ]
  },
  {
   "cell_type": "code",
   "execution_count": 69,
   "id": "32caf1e0",
   "metadata": {},
   "outputs": [
    {
     "data": {
      "text/plain": [
       "[<selenium.webdriver.remote.webelement.WebElement (session=\"3b72d1f1a14334b5718288e91a119f8f\", element=\"ff9e8401-e57b-44db-900b-012eda5e1c45\")>,\n",
       " <selenium.webdriver.remote.webelement.WebElement (session=\"3b72d1f1a14334b5718288e91a119f8f\", element=\"70df8244-dcc5-4db8-a34a-714033f2f58b\")>]"
      ]
     },
     "execution_count": 69,
     "metadata": {},
     "output_type": "execute_result"
    }
   ],
   "source": [
    "review =driver5.find_elements_by_xpath(\"//p[@class='_2-N8zT']\") \n",
    "review[0:2]"
   ]
  },
  {
   "cell_type": "code",
   "execution_count": 70,
   "id": "1a27c262",
   "metadata": {},
   "outputs": [
    {
     "data": {
      "text/plain": [
       "['Brilliant', 'Simply awesome']"
      ]
     },
     "execution_count": 70,
     "metadata": {},
     "output_type": "execute_result"
    }
   ],
   "source": [
    "for m in review:\n",
    "    rev=m.text\n",
    "    phone_review_sum.append(rev)\n",
    "phone_review_sum[0:2]"
   ]
  },
  {
   "cell_type": "code",
   "execution_count": 71,
   "id": "1240cff0",
   "metadata": {},
   "outputs": [
    {
     "data": {
      "text/plain": [
       "[<selenium.webdriver.remote.webelement.WebElement (session=\"3b72d1f1a14334b5718288e91a119f8f\", element=\"b598e706-c5ee-407a-aae8-1f99777bcdaf\")>,\n",
       " <selenium.webdriver.remote.webelement.WebElement (session=\"3b72d1f1a14334b5718288e91a119f8f\", element=\"8b0f20ef-05dd-437b-b057-4b4f2ef8a60a\")>]"
      ]
     },
     "execution_count": 71,
     "metadata": {},
     "output_type": "execute_result"
    }
   ],
   "source": [
    "summ =driver5.find_elements_by_xpath(\"//div[@class='t-ZTKy']\") \n",
    "summ[0:2]"
   ]
  },
  {
   "cell_type": "code",
   "execution_count": 72,
   "id": "d9a5c42c",
   "metadata": {},
   "outputs": [
    {
     "data": {
      "text/plain": [
       "['The Best Phone for the Money\\n\\nThe iPhone 11 offers superb cameras, a more durable design and excellent battery life for an affordable price.\\n\\nCompelling ultra-wide camera\\nNew Night mode is excellent\\nLong battery life',\n",
       " 'Really satisfied with the Product I received... It’s totally genuine and the packaging was also really good so if ur planning to buy just go for it.']"
      ]
     },
     "execution_count": 72,
     "metadata": {},
     "output_type": "execute_result"
    }
   ],
   "source": [
    "for n in summ:\n",
    "    su=n.text\n",
    "    phone_full_review.append(su)\n",
    "phone_full_review[0:2]"
   ]
  },
  {
   "cell_type": "code",
   "execution_count": 73,
   "id": "c322a348",
   "metadata": {},
   "outputs": [],
   "source": [
    "start =0\n",
    "end =6\n",
    "\n",
    "for page in range(start,end):\n",
    "    rating =driver5.find_elements_by_xpath(\"//div[@class='_3LWZlK _1BLPMq']\") \n",
    "    rating[0:2]\n",
    "    \n",
    "    for l in rating:\n",
    "        rat=l.text\n",
    "        phone_rating.append(rat)\n",
    "    phone_rating[0:2]\n",
    "\n",
    "    review =driver5.find_elements_by_xpath(\"//p[@class='_2-N8zT']\") \n",
    "    review[0:2]\n",
    "    \n",
    "    for m in review:\n",
    "        rev=m.text\n",
    "        phone_review_sum.append(rev)\n",
    "    phone_review_sum[0:2]\n",
    "    \n",
    "    summ =driver5.find_elements_by_xpath(\"//div[@class='t-ZTKy']\") \n",
    "    summ[0:2]\n",
    "    \n",
    "    for n in summ:\n",
    "        su=n.text\n",
    "        phone_full_review.append(su)\n",
    "    phone_full_review[0:2]\n",
    "    \n",
    "    nxt_button =driver5.find_elements_by_xpath(\"//a[@class='_1LKTO3']\")\n",
    "    \n",
    "    try:\n",
    "        driver5.get(nxt_button[1].get_attribute('href'))\n",
    "    except:\n",
    "        driver5.get(nxt_button[0].get_attribute('href'))"
   ]
  },
  {
   "cell_type": "code",
   "execution_count": 74,
   "id": "af87ac55",
   "metadata": {},
   "outputs": [
    {
     "name": "stdout",
     "output_type": "stream",
     "text": [
      "69 70 70\n"
     ]
    }
   ],
   "source": [
    "print(len(phone_rating),len(phone_review_sum),len(phone_full_review))"
   ]
  },
  {
   "cell_type": "code",
   "execution_count": null,
   "id": "b9d49690",
   "metadata": {},
   "outputs": [],
   "source": []
  },
  {
   "cell_type": "code",
   "execution_count": 75,
   "id": "a087276a",
   "metadata": {},
   "outputs": [],
   "source": [
    "df5 =pd.DataFrame({})\n",
    "#df5['phone rating'] =phone_rating\n",
    "df5['phone_review']=phone_review_sum\n",
    "df5['phone full summary']=phone_full_review"
   ]
  },
  {
   "cell_type": "code",
   "execution_count": 77,
   "id": "a0a80077",
   "metadata": {},
   "outputs": [
    {
     "data": {
      "text/html": [
       "<div>\n",
       "<style scoped>\n",
       "    .dataframe tbody tr th:only-of-type {\n",
       "        vertical-align: middle;\n",
       "    }\n",
       "\n",
       "    .dataframe tbody tr th {\n",
       "        vertical-align: top;\n",
       "    }\n",
       "\n",
       "    .dataframe thead th {\n",
       "        text-align: right;\n",
       "    }\n",
       "</style>\n",
       "<table border=\"1\" class=\"dataframe\">\n",
       "  <thead>\n",
       "    <tr style=\"text-align: right;\">\n",
       "      <th></th>\n",
       "      <th>phone_review</th>\n",
       "      <th>phone full summary</th>\n",
       "    </tr>\n",
       "  </thead>\n",
       "  <tbody>\n",
       "    <tr>\n",
       "      <th>0</th>\n",
       "      <td>Brilliant</td>\n",
       "      <td>The Best Phone for the Money\\n\\nThe iPhone 11 ...</td>\n",
       "    </tr>\n",
       "    <tr>\n",
       "      <th>1</th>\n",
       "      <td>Simply awesome</td>\n",
       "      <td>Really satisfied with the Product I received.....</td>\n",
       "    </tr>\n",
       "    <tr>\n",
       "      <th>2</th>\n",
       "      <td>Best in the market!</td>\n",
       "      <td>Great iPhone very snappy experience as apple k...</td>\n",
       "    </tr>\n",
       "    <tr>\n",
       "      <th>3</th>\n",
       "      <td>Perfect product!</td>\n",
       "      <td>Amazing phone with great cameras and better ba...</td>\n",
       "    </tr>\n",
       "    <tr>\n",
       "      <th>4</th>\n",
       "      <td>Fabulous!</td>\n",
       "      <td>This is my first iOS phone. I am very happy wi...</td>\n",
       "    </tr>\n",
       "    <tr>\n",
       "      <th>...</th>\n",
       "      <td>...</td>\n",
       "      <td>...</td>\n",
       "    </tr>\n",
       "    <tr>\n",
       "      <th>65</th>\n",
       "      <td>Pretty good</td>\n",
       "      <td>I was using Iphone 6s and also Oneplus 6t. Bot...</td>\n",
       "    </tr>\n",
       "    <tr>\n",
       "      <th>66</th>\n",
       "      <td>Terrific purchase</td>\n",
       "      <td>Its Very awesome product working and good came...</td>\n",
       "    </tr>\n",
       "    <tr>\n",
       "      <th>67</th>\n",
       "      <td>Awesome</td>\n",
       "      <td>I am using this phone for 5 days and its one o...</td>\n",
       "    </tr>\n",
       "    <tr>\n",
       "      <th>68</th>\n",
       "      <td>Classy product</td>\n",
       "      <td>Best and amazing product.....phone looks so pr...</td>\n",
       "    </tr>\n",
       "    <tr>\n",
       "      <th>69</th>\n",
       "      <td>Brilliant</td>\n",
       "      <td>Excellent camera and display touching very nic...</td>\n",
       "    </tr>\n",
       "  </tbody>\n",
       "</table>\n",
       "<p>70 rows × 2 columns</p>\n",
       "</div>"
      ],
      "text/plain": [
       "           phone_review                                 phone full summary\n",
       "0             Brilliant  The Best Phone for the Money\\n\\nThe iPhone 11 ...\n",
       "1        Simply awesome  Really satisfied with the Product I received.....\n",
       "2   Best in the market!  Great iPhone very snappy experience as apple k...\n",
       "3      Perfect product!  Amazing phone with great cameras and better ba...\n",
       "4             Fabulous!  This is my first iOS phone. I am very happy wi...\n",
       "..                  ...                                                ...\n",
       "65          Pretty good  I was using Iphone 6s and also Oneplus 6t. Bot...\n",
       "66    Terrific purchase  Its Very awesome product working and good came...\n",
       "67              Awesome  I am using this phone for 5 days and its one o...\n",
       "68       Classy product  Best and amazing product.....phone looks so pr...\n",
       "69            Brilliant  Excellent camera and display touching very nic...\n",
       "\n",
       "[70 rows x 2 columns]"
      ]
     },
     "execution_count": 77,
     "metadata": {},
     "output_type": "execute_result"
    }
   ],
   "source": [
    "df5.head(100)"
   ]
  },
  {
   "cell_type": "markdown",
   "id": "d61e89e6",
   "metadata": {},
   "source": [
    "# Q6: Scrape data for first 100 sneakers you find when you visit flipkart.com andsearch for “sneakers” in the search field.\n",
    "You have to scrape 4 attributes of each sneaker:\n",
    "1. Brand\n",
    "2. Product Description\n",
    "3. Price"
   ]
  },
  {
   "cell_type": "code",
   "execution_count": 78,
   "id": "f8b178e7",
   "metadata": {},
   "outputs": [],
   "source": [
    "#lets first connect to the web driver\n",
    "driver6 = webdriver.Chrome(\"C:\\\\Users\\\\hema\\\\OneDrive\\\\Documents\\\\chromedriver_win32\\\\chromedriver.exe\")"
   ]
  },
  {
   "cell_type": "code",
   "execution_count": 79,
   "id": "600f2e94",
   "metadata": {},
   "outputs": [],
   "source": [
    "driver6.get('https:www.flipkart.com/')"
   ]
  },
  {
   "cell_type": "code",
   "execution_count": 80,
   "id": "0b666a0e",
   "metadata": {},
   "outputs": [],
   "source": [
    "get_field =driver6.find_element_by_class_name(\"_3704LK\")\n",
    "get_field.send_keys(\"sneakers\")"
   ]
  },
  {
   "cell_type": "code",
   "execution_count": 81,
   "id": "9b2368da",
   "metadata": {},
   "outputs": [],
   "source": [
    "search_field6 =driver6.find_element_by_xpath(\"//button[@class='L0Z3Pu']\")\n",
    "search_field6.submit()"
   ]
  },
  {
   "cell_type": "code",
   "execution_count": 82,
   "id": "83a99b86",
   "metadata": {},
   "outputs": [],
   "source": [
    "sneaker_brand =[]\n",
    "sneaker_proddes=[]\n",
    "sneaker_price=[]\n",
    "sneaker_discount=[]"
   ]
  },
  {
   "cell_type": "code",
   "execution_count": 44,
   "id": "dec3a025",
   "metadata": {},
   "outputs": [
    {
     "data": {
      "text/plain": [
       "[<selenium.webdriver.remote.webelement.WebElement (session=\"660deb0e2f20c47087075e70188530fd\", element=\"ed8c036f-5abe-41d3-8a3c-3f99b4774cd4\")>,\n",
       " <selenium.webdriver.remote.webelement.WebElement (session=\"660deb0e2f20c47087075e70188530fd\", element=\"32f630e6-51c4-4033-8a21-fe3e6803f036\")>]"
      ]
     },
     "execution_count": 44,
     "metadata": {},
     "output_type": "execute_result"
    }
   ],
   "source": [
    "#scrap for the brand of the sneakers\n",
    "\n",
    "brand=driver6.find_elements_by_xpath(\"//div[@class='_2WkVRV']\")     \n",
    "brand[0:2]"
   ]
  },
  {
   "cell_type": "code",
   "execution_count": 45,
   "id": "0793f49d",
   "metadata": {},
   "outputs": [
    {
     "data": {
      "text/plain": [
       "['CLYMB', 'HRX by Hrithik Roshan']"
      ]
     },
     "execution_count": 45,
     "metadata": {},
     "output_type": "execute_result"
    }
   ],
   "source": [
    "for d in brand:\n",
    "    bran=d.text\n",
    "    sneaker_brand.append(bran)\n",
    "sneaker_brand[0:2]"
   ]
  },
  {
   "cell_type": "code",
   "execution_count": 46,
   "id": "b1fbf319",
   "metadata": {},
   "outputs": [
    {
     "data": {
      "text/plain": [
       "[<selenium.webdriver.remote.webelement.WebElement (session=\"660deb0e2f20c47087075e70188530fd\", element=\"35f7d3e7-fc9f-44b5-9233-adff8e9ef395\")>,\n",
       " <selenium.webdriver.remote.webelement.WebElement (session=\"660deb0e2f20c47087075e70188530fd\", element=\"b79c0211-68d1-425b-b126-9332b7a95a29\")>]"
      ]
     },
     "execution_count": 46,
     "metadata": {},
     "output_type": "execute_result"
    }
   ],
   "source": [
    "description =driver6.find_elements_by_xpath(\"//div[@class='_2B099V']\")\n",
    "description[0:2]"
   ]
  },
  {
   "cell_type": "code",
   "execution_count": 47,
   "id": "f9e0e94a",
   "metadata": {},
   "outputs": [
    {
     "data": {
      "text/plain": [
       "[\"CLYMB\\nPerfect Sports Shoes for Men's Running ,Cycling & Trekk...\\n₹239₹99976% off\\nFree delivery\\nDeal of the Day\",\n",
       " 'HRX by Hrithik Roshan\\nSneakers For Men\\n₹2,149₹2,99928% off\\nFree delivery']"
      ]
     },
     "execution_count": 47,
     "metadata": {},
     "output_type": "execute_result"
    }
   ],
   "source": [
    "for e in description:\n",
    "    des=e.text\n",
    "    sneaker_proddes.append(des)\n",
    "sneaker_proddes[0:2]"
   ]
  },
  {
   "cell_type": "code",
   "execution_count": 48,
   "id": "aed7c759",
   "metadata": {},
   "outputs": [
    {
     "data": {
      "text/plain": [
       "[<selenium.webdriver.remote.webelement.WebElement (session=\"660deb0e2f20c47087075e70188530fd\", element=\"06a7be3f-e02d-41d3-9a57-b214da7fc0e4\")>,\n",
       " <selenium.webdriver.remote.webelement.WebElement (session=\"660deb0e2f20c47087075e70188530fd\", element=\"3671431c-8971-49ff-9e57-3e1631aeb1db\")>]"
      ]
     },
     "execution_count": 48,
     "metadata": {},
     "output_type": "execute_result"
    }
   ],
   "source": [
    "price =driver6.find_elements_by_xpath(\"//div[@class='_30jeq3']\")\n",
    "price[0:2]"
   ]
  },
  {
   "cell_type": "code",
   "execution_count": 49,
   "id": "aa6237ca",
   "metadata": {},
   "outputs": [
    {
     "data": {
      "text/plain": [
       "['₹239', '₹2,149']"
      ]
     },
     "execution_count": 49,
     "metadata": {},
     "output_type": "execute_result"
    }
   ],
   "source": [
    "for f in price:\n",
    "    pri=f.text\n",
    "    sneaker_price.append(pri)\n",
    "sneaker_price[0:2]"
   ]
  },
  {
   "cell_type": "code",
   "execution_count": 50,
   "id": "238d1666",
   "metadata": {},
   "outputs": [
    {
     "data": {
      "text/plain": [
       "[<selenium.webdriver.remote.webelement.WebElement (session=\"660deb0e2f20c47087075e70188530fd\", element=\"7b31c037-e0d2-4d88-ad19-698f2b1981fd\")>,\n",
       " <selenium.webdriver.remote.webelement.WebElement (session=\"660deb0e2f20c47087075e70188530fd\", element=\"7c78d47a-f6e9-41c0-a973-3a752a4c0d3e\")>]"
      ]
     },
     "execution_count": 50,
     "metadata": {},
     "output_type": "execute_result"
    }
   ],
   "source": [
    "discount=driver6.find_elements_by_xpath(\"//div[@class='_3Ay6Sb']\")\n",
    "discount[0:2]"
   ]
  },
  {
   "cell_type": "code",
   "execution_count": 51,
   "id": "d206253f",
   "metadata": {},
   "outputs": [
    {
     "data": {
      "text/plain": [
       "['76% off', '28% off']"
      ]
     },
     "execution_count": 51,
     "metadata": {},
     "output_type": "execute_result"
    }
   ],
   "source": [
    "for g in discount:\n",
    "    dis=g.text\n",
    "    sneaker_discount.append(dis)\n",
    "sneaker_discount[0:2]"
   ]
  },
  {
   "cell_type": "code",
   "execution_count": 83,
   "id": "3f87b503",
   "metadata": {},
   "outputs": [],
   "source": [
    "start =0\n",
    "end =6\n",
    "\n",
    "for page in range(start,end):\n",
    "    \n",
    "    brand=driver6.find_elements_by_xpath(\"//div[@class='_2WkVRV']\")     \n",
    "    brand[0:2]\n",
    "    \n",
    "    for d in brand:\n",
    "        bran=d.text\n",
    "        sneaker_brand.append(bran)\n",
    "    sneaker_brand[0:2]\n",
    "\n",
    "    description =driver6.find_elements_by_xpath(\"//div[@class='_2B099V']\")\n",
    "    description[0:2]\n",
    "    \n",
    "    for e in description:\n",
    "        des=e.text\n",
    "        sneaker_proddes.append(des)\n",
    "    sneaker_proddes[0:2]\n",
    "    \n",
    "    price =driver6.find_elements_by_xpath(\"//div[@class='_30jeq3']\")\n",
    "    price[0:2]\n",
    "    \n",
    "    for f in price:\n",
    "        pri=f.text\n",
    "        sneaker_price.append(pri)\n",
    "    sneaker_price[0:2]\n",
    "    \n",
    "    discount=driver6.find_elements_by_xpath(\"//div[@class='_3Ay6Sb']\")\n",
    "    discount[0:2]\n",
    "    \n",
    "    for g in discount:\n",
    "        dis=g.text\n",
    "        sneaker_discount.append(dis)\n",
    "    sneaker_discount[0:2]\n",
    "    \n",
    "    nxt_button =driver6.find_elements_by_xpath(\"//a[@class='_1LKTO3']\")\n",
    "    \n",
    "    try:\n",
    "        driver6.get(nxt_button[1].get_attribute('href'))\n",
    "    except:\n",
    "        driver6.get(nxt_button[0].get_attribute('href'))"
   ]
  },
  {
   "cell_type": "code",
   "execution_count": 8,
   "id": "9f21a5d8",
   "metadata": {},
   "outputs": [
    {
     "name": "stdout",
     "output_type": "stream",
     "text": [
      "240 240 240 240\n"
     ]
    }
   ],
   "source": [
    "print(len(sneaker_brand),len(sneaker_proddes),len(sneaker_price),len(sneaker_discount))"
   ]
  },
  {
   "cell_type": "code",
   "execution_count": 86,
   "id": "a42cbe0f",
   "metadata": {},
   "outputs": [],
   "source": [
    "df6 =pd.DataFrame({})\n",
    "df6['Sneaker Brand'] =sneaker_brand\n",
    "df6['Sneaker Prod description']=sneaker_proddes\n",
    "df6['Sneaker Price']=sneaker_price\n",
    "df6['Sneaker Shoe Discount']=sneaker_discount"
   ]
  },
  {
   "cell_type": "code",
   "execution_count": 87,
   "id": "50230f7d",
   "metadata": {},
   "outputs": [
    {
     "data": {
      "text/html": [
       "<div>\n",
       "<style scoped>\n",
       "    .dataframe tbody tr th:only-of-type {\n",
       "        vertical-align: middle;\n",
       "    }\n",
       "\n",
       "    .dataframe tbody tr th {\n",
       "        vertical-align: top;\n",
       "    }\n",
       "\n",
       "    .dataframe thead th {\n",
       "        text-align: right;\n",
       "    }\n",
       "</style>\n",
       "<table border=\"1\" class=\"dataframe\">\n",
       "  <thead>\n",
       "    <tr style=\"text-align: right;\">\n",
       "      <th></th>\n",
       "      <th>Sneaker Brand</th>\n",
       "      <th>Sneaker Prod description</th>\n",
       "      <th>Sneaker Price</th>\n",
       "      <th>Sneaker Shoe Discount</th>\n",
       "    </tr>\n",
       "  </thead>\n",
       "  <tbody>\n",
       "    <tr>\n",
       "      <th>0</th>\n",
       "      <td>HOTSTYLE</td>\n",
       "      <td>HOTSTYLE\\nCR-1 Sneakers For Men\\n₹253₹49949% o...</td>\n",
       "      <td>₹253</td>\n",
       "      <td>49% off</td>\n",
       "    </tr>\n",
       "    <tr>\n",
       "      <th>1</th>\n",
       "      <td>Numenzo</td>\n",
       "      <td>Numenzo\\n411 Casual Sneakers For Men\\n₹449₹1,9...</td>\n",
       "      <td>₹449</td>\n",
       "      <td>77% off</td>\n",
       "    </tr>\n",
       "    <tr>\n",
       "      <th>2</th>\n",
       "      <td>URBANBOX</td>\n",
       "      <td>URBANBOX\\nSneakers Sneakers For Men\\n₹142₹9998...</td>\n",
       "      <td>₹142</td>\n",
       "      <td>85% off</td>\n",
       "    </tr>\n",
       "    <tr>\n",
       "      <th>3</th>\n",
       "      <td>aadi</td>\n",
       "      <td>aadi\\nSneakers For Men\\n₹349₹99965% off\\nFree ...</td>\n",
       "      <td>₹349</td>\n",
       "      <td>65% off</td>\n",
       "    </tr>\n",
       "    <tr>\n",
       "      <th>4</th>\n",
       "      <td>corsac</td>\n",
       "      <td>corsac\\nSTYLISH MENS BLACK SNEAKER Sneakers Fo...</td>\n",
       "      <td>₹424</td>\n",
       "      <td>71% off</td>\n",
       "    </tr>\n",
       "    <tr>\n",
       "      <th>...</th>\n",
       "      <td>...</td>\n",
       "      <td>...</td>\n",
       "      <td>...</td>\n",
       "      <td>...</td>\n",
       "    </tr>\n",
       "    <tr>\n",
       "      <th>95</th>\n",
       "      <td>mohliye</td>\n",
       "      <td>mohliye\\nSneakers For Men\\n₹249₹65962% off\\nFr...</td>\n",
       "      <td>₹249</td>\n",
       "      <td>62% off</td>\n",
       "    </tr>\n",
       "    <tr>\n",
       "      <th>96</th>\n",
       "      <td>Zixer</td>\n",
       "      <td>Zixer\\nExclusive dancing shoe for boy�s, Funky...</td>\n",
       "      <td>₹549</td>\n",
       "      <td>57% off</td>\n",
       "    </tr>\n",
       "    <tr>\n",
       "      <th>97</th>\n",
       "      <td>Airland</td>\n",
       "      <td>Airland\\nsneaker men red 1258 - 6 Sneakers For...</td>\n",
       "      <td>₹183</td>\n",
       "      <td>63% off</td>\n",
       "    </tr>\n",
       "    <tr>\n",
       "      <th>98</th>\n",
       "      <td>HOCKWOOD</td>\n",
       "      <td>HOCKWOOD\\nStreet Smart Sneakers For Men\\n₹695₹...</td>\n",
       "      <td>₹695</td>\n",
       "      <td>30% off</td>\n",
       "    </tr>\n",
       "    <tr>\n",
       "      <th>99</th>\n",
       "      <td>Nilatin</td>\n",
       "      <td>Nilatin\\nSneakers For Men\\n₹424₹1,99978% off\\n...</td>\n",
       "      <td>₹424</td>\n",
       "      <td>78% off</td>\n",
       "    </tr>\n",
       "  </tbody>\n",
       "</table>\n",
       "<p>100 rows × 4 columns</p>\n",
       "</div>"
      ],
      "text/plain": [
       "   Sneaker Brand                           Sneaker Prod description  \\\n",
       "0       HOTSTYLE  HOTSTYLE\\nCR-1 Sneakers For Men\\n₹253₹49949% o...   \n",
       "1        Numenzo  Numenzo\\n411 Casual Sneakers For Men\\n₹449₹1,9...   \n",
       "2       URBANBOX  URBANBOX\\nSneakers Sneakers For Men\\n₹142₹9998...   \n",
       "3           aadi  aadi\\nSneakers For Men\\n₹349₹99965% off\\nFree ...   \n",
       "4         corsac  corsac\\nSTYLISH MENS BLACK SNEAKER Sneakers Fo...   \n",
       "..           ...                                                ...   \n",
       "95       mohliye  mohliye\\nSneakers For Men\\n₹249₹65962% off\\nFr...   \n",
       "96         Zixer  Zixer\\nExclusive dancing shoe for boy�s, Funky...   \n",
       "97       Airland  Airland\\nsneaker men red 1258 - 6 Sneakers For...   \n",
       "98      HOCKWOOD  HOCKWOOD\\nStreet Smart Sneakers For Men\\n₹695₹...   \n",
       "99       Nilatin  Nilatin\\nSneakers For Men\\n₹424₹1,99978% off\\n...   \n",
       "\n",
       "   Sneaker Price Sneaker Shoe Discount  \n",
       "0           ₹253               49% off  \n",
       "1           ₹449               77% off  \n",
       "2           ₹142               85% off  \n",
       "3           ₹349               65% off  \n",
       "4           ₹424               71% off  \n",
       "..           ...                   ...  \n",
       "95          ₹249               62% off  \n",
       "96          ₹549               57% off  \n",
       "97          ₹183               63% off  \n",
       "98          ₹695               30% off  \n",
       "99          ₹424               78% off  \n",
       "\n",
       "[100 rows x 4 columns]"
      ]
     },
     "execution_count": 87,
     "metadata": {},
     "output_type": "execute_result"
    }
   ],
   "source": [
    "df6.head(100)"
   ]
  },
  {
   "cell_type": "markdown",
   "id": "cf58139c",
   "metadata": {},
   "source": [
    "# Q7: Go to the link - https://www.myntra.com/shoes\n",
    "Set Price filter to “Rs. 7149 to Rs. 14099 ” , Color filter to “Black”, as shown inthe below image.\n",
    "And then scrape First 100 shoes data you get. The data should include “Brand” of the shoes , Short Shoe\n",
    "description, price of the shoe as shown in the below image"
   ]
  },
  {
   "cell_type": "code",
   "execution_count": 88,
   "id": "964f2ab3",
   "metadata": {},
   "outputs": [],
   "source": [
    "#lets first connect to the web driver\n",
    "driver7 = webdriver.Chrome(\"C:\\\\Users\\\\hema\\\\OneDrive\\\\Documents\\\\chromedriver_win32\\\\chromedriver.exe\")"
   ]
  },
  {
   "cell_type": "code",
   "execution_count": 89,
   "id": "1fca3f5f",
   "metadata": {},
   "outputs": [],
   "source": [
    "driver7.get('https:www.myntra.com/shoes')"
   ]
  },
  {
   "cell_type": "code",
   "execution_count": 90,
   "id": "542f51a3",
   "metadata": {},
   "outputs": [],
   "source": [
    "#location=driver1.find_element_by_xpath(\"//span[@title='Delhi / NCR']\")\n",
    "#location.click()\n",
    "\n",
    "color= driver7.find_element_by_xpath(\"//span[@data-colorhex='black']\")\n",
    "color.click()"
   ]
  },
  {
   "cell_type": "code",
   "execution_count": 91,
   "id": "bd896518",
   "metadata": {},
   "outputs": [],
   "source": [
    "price= driver7.find_element_by_xpath(\"//span[@class='price-num']\")\n",
    "price.click()"
   ]
  },
  {
   "cell_type": "code",
   "execution_count": 92,
   "id": "28d30753",
   "metadata": {},
   "outputs": [],
   "source": [
    "url ='https://www.myntra.com/shoes?f=Color%3ABlack_36454f&rf=Price%3A7187.0_14125.0_7187.0%20TO%2014125.0'"
   ]
  },
  {
   "cell_type": "code",
   "execution_count": 93,
   "id": "215fd20a",
   "metadata": {},
   "outputs": [],
   "source": [
    "shoe_brand =[]\n",
    "shoe_short_des =[]\n",
    "shoe_price=[]"
   ]
  },
  {
   "cell_type": "code",
   "execution_count": 32,
   "id": "19b3d5b7",
   "metadata": {},
   "outputs": [
    {
     "data": {
      "text/plain": [
       "[<selenium.webdriver.remote.webelement.WebElement (session=\"e28fd9278bb3e813aa33c65407403a4d\", element=\"e64f09f7-169d-4c00-bca7-1f0d8ae9ca17\")>,\n",
       " <selenium.webdriver.remote.webelement.WebElement (session=\"e28fd9278bb3e813aa33c65407403a4d\", element=\"86f1b4d6-80e7-4887-bdeb-b0778d6b517b\")>]"
      ]
     },
     "execution_count": 32,
     "metadata": {},
     "output_type": "execute_result"
    }
   ],
   "source": [
    "sh_bran=driver7.find_elements_by_xpath(\"//h3[@class='product-brand']\")     \n",
    "sh_bran[0:2]"
   ]
  },
  {
   "cell_type": "code",
   "execution_count": 33,
   "id": "edd41d71",
   "metadata": {},
   "outputs": [
    {
     "data": {
      "text/plain": [
       "['ALDO', 'Skechers']"
      ]
     },
     "execution_count": 33,
     "metadata": {},
     "output_type": "execute_result"
    }
   ],
   "source": [
    "for p in sh_bran:\n",
    "    brands=p.text\n",
    "    shoe_brand.append(brands)\n",
    "shoe_brand[0:2]"
   ]
  },
  {
   "cell_type": "code",
   "execution_count": 10,
   "id": "7a1adcfa",
   "metadata": {},
   "outputs": [
    {
     "data": {
      "text/plain": [
       "[<selenium.webdriver.remote.webelement.WebElement (session=\"a101501e6c29ab10b354db27b7d5bab2\", element=\"eb551b36-e74e-412c-811d-f6cfc515d571\")>,\n",
       " <selenium.webdriver.remote.webelement.WebElement (session=\"a101501e6c29ab10b354db27b7d5bab2\", element=\"9869a259-e0dc-480a-a26c-ed3e57b38e24\")>]"
      ]
     },
     "execution_count": 10,
     "metadata": {},
     "output_type": "execute_result"
    }
   ],
   "source": [
    "sh_shoe_des =driver7.find_elements_by_xpath(\"//h4[@class='product-product']\")\n",
    "sh_shoe_des[0:2]"
   ]
  },
  {
   "cell_type": "code",
   "execution_count": 11,
   "id": "09481ba4",
   "metadata": {},
   "outputs": [
    {
     "data": {
      "text/plain": [
       "['Men Running Shoes', 'Men Walking Shoes']"
      ]
     },
     "execution_count": 11,
     "metadata": {},
     "output_type": "execute_result"
    }
   ],
   "source": [
    "for q in sh_shoe_des:\n",
    "    desp=q.text\n",
    "    shoe_short_des.append(desp)\n",
    "shoe_short_des[0:2]"
   ]
  },
  {
   "cell_type": "code",
   "execution_count": 12,
   "id": "5d5fdfe0",
   "metadata": {},
   "outputs": [
    {
     "data": {
      "text/plain": [
       "[<selenium.webdriver.remote.webelement.WebElement (session=\"a101501e6c29ab10b354db27b7d5bab2\", element=\"91b10447-4d0f-4a00-a133-22e9f441a31a\")>,\n",
       " <selenium.webdriver.remote.webelement.WebElement (session=\"a101501e6c29ab10b354db27b7d5bab2\", element=\"517edc3a-d872-4c62-a29d-ca9a46901b56\")>]"
      ]
     },
     "execution_count": 12,
     "metadata": {},
     "output_type": "execute_result"
    }
   ],
   "source": [
    "shprice =driver7.find_elements_by_xpath(\"//div[@class='product-price']\")\n",
    "shprice[0:2]"
   ]
  },
  {
   "cell_type": "code",
   "execution_count": 13,
   "id": "d12b8ab5",
   "metadata": {},
   "outputs": [
    {
     "data": {
      "text/plain": [
       "['Rs. 2749Rs. 5499(50% OFF)', 'Rs. 1739Rs. 5799(70% OFF)']"
      ]
     },
     "execution_count": 13,
     "metadata": {},
     "output_type": "execute_result"
    }
   ],
   "source": [
    "for r in shprice:\n",
    "    pric=r.text\n",
    "    shoe_price.append(pric)\n",
    "shoe_price[0:2]"
   ]
  },
  {
   "cell_type": "code",
   "execution_count": 94,
   "id": "e8d8efe7",
   "metadata": {},
   "outputs": [],
   "source": [
    "start =0\n",
    "end =2\n",
    "\n",
    "for page in range(start,end):\n",
    "    \n",
    "    sh_bran=driver7.find_elements_by_xpath(\"//h3[@class='product-brand']\")     \n",
    "    sh_bran[0:2]\n",
    "    \n",
    "    for p in sh_bran:\n",
    "        brands=p.text\n",
    "        shoe_brand.append(brands)\n",
    "    shoe_brand[0:2]\n",
    "\n",
    "    sh_shoe_des =driver7.find_elements_by_xpath(\"//h4[@class='product-product']\")\n",
    "    sh_shoe_des[0:2]\n",
    "    \n",
    "    for q in sh_shoe_des:\n",
    "        desp=q.text\n",
    "        shoe_short_des.append(desp)\n",
    "    shoe_short_des[0:2]\n",
    "    \n",
    "    shprice =driver7.find_elements_by_xpath(\"//div[@class='product-price']\")\n",
    "    shprice[0:2]\n",
    "    \n",
    "    for r in shprice:\n",
    "        pric=r.text\n",
    "        shoe_price.append(pric)\n",
    "    shoe_price[0:2]\n",
    "    \n",
    "        \n",
    "    nxt_button =driver7.find_elements_by_xpath(\"//li[@class='pagination-number']/a\")\n",
    "    \n",
    "    try:\n",
    "        driver7.get(nxt_button[1].get_attribute('href'))\n",
    "    except:\n",
    "        driver7.get(nxt_button[0].get_attribute('href'))"
   ]
  },
  {
   "cell_type": "code",
   "execution_count": 95,
   "id": "4c718f57",
   "metadata": {},
   "outputs": [
    {
     "name": "stdout",
     "output_type": "stream",
     "text": [
      "100 100 100\n"
     ]
    }
   ],
   "source": [
    "print(len(shoe_brand),len(shoe_short_des),len(shoe_price))"
   ]
  },
  {
   "cell_type": "code",
   "execution_count": 96,
   "id": "65ec3fb8",
   "metadata": {},
   "outputs": [],
   "source": [
    "df7 =pd.DataFrame({})\n",
    "df7['Shoe Brand'] =shoe_brand\n",
    "df7['Shoe short description']=shoe_short_des\n",
    "df7['Shoe price']=shoe_price"
   ]
  },
  {
   "cell_type": "code",
   "execution_count": 97,
   "id": "35d90ddb",
   "metadata": {},
   "outputs": [
    {
     "data": {
      "text/html": [
       "<div>\n",
       "<style scoped>\n",
       "    .dataframe tbody tr th:only-of-type {\n",
       "        vertical-align: middle;\n",
       "    }\n",
       "\n",
       "    .dataframe tbody tr th {\n",
       "        vertical-align: top;\n",
       "    }\n",
       "\n",
       "    .dataframe thead th {\n",
       "        text-align: right;\n",
       "    }\n",
       "</style>\n",
       "<table border=\"1\" class=\"dataframe\">\n",
       "  <thead>\n",
       "    <tr style=\"text-align: right;\">\n",
       "      <th></th>\n",
       "      <th>Shoe Brand</th>\n",
       "      <th>Shoe short description</th>\n",
       "      <th>Shoe price</th>\n",
       "    </tr>\n",
       "  </thead>\n",
       "  <tbody>\n",
       "    <tr>\n",
       "      <th>0</th>\n",
       "      <td>Puma</td>\n",
       "      <td>Men Running Shoes</td>\n",
       "      <td>Rs. 2749Rs. 5499(50% OFF)</td>\n",
       "    </tr>\n",
       "    <tr>\n",
       "      <th>1</th>\n",
       "      <td>Nike</td>\n",
       "      <td>Men MC Training Shoes</td>\n",
       "      <td>Rs. 5495</td>\n",
       "    </tr>\n",
       "    <tr>\n",
       "      <th>2</th>\n",
       "      <td>Puma</td>\n",
       "      <td>Men HYBRID Fuego Running Shoes</td>\n",
       "      <td>Rs. 3249Rs. 6499(50% OFF)</td>\n",
       "    </tr>\n",
       "    <tr>\n",
       "      <th>3</th>\n",
       "      <td>Nike</td>\n",
       "      <td>LEGEND ESSENTIAL Training Shoe</td>\n",
       "      <td>Rs. 3820Rs. 4495(15% OFF)</td>\n",
       "    </tr>\n",
       "    <tr>\n",
       "      <th>4</th>\n",
       "      <td>ALDO</td>\n",
       "      <td>Men Textured Sneakers</td>\n",
       "      <td>Rs. 6999Rs. 9999(30% OFF)</td>\n",
       "    </tr>\n",
       "    <tr>\n",
       "      <th>...</th>\n",
       "      <td>...</td>\n",
       "      <td>...</td>\n",
       "      <td>...</td>\n",
       "    </tr>\n",
       "    <tr>\n",
       "      <th>95</th>\n",
       "      <td>Skechers</td>\n",
       "      <td>Men Go Walk Max- Painted Sky</td>\n",
       "      <td>Rs. 4504Rs. 5299(15% OFF)</td>\n",
       "    </tr>\n",
       "    <tr>\n",
       "      <th>96</th>\n",
       "      <td>DressBerry</td>\n",
       "      <td>Women Solid Sneakers</td>\n",
       "      <td>Rs. 869Rs. 2899(70% OFF)</td>\n",
       "    </tr>\n",
       "    <tr>\n",
       "      <th>97</th>\n",
       "      <td>Provogue</td>\n",
       "      <td>Men Solid Horsebit Loafers</td>\n",
       "      <td>Rs. 849Rs. 4245(80% OFF)</td>\n",
       "    </tr>\n",
       "    <tr>\n",
       "      <th>98</th>\n",
       "      <td>Louis Philippe</td>\n",
       "      <td>Men Leather Driving Shoes</td>\n",
       "      <td>Rs. 2599Rs. 3999(35% OFF)</td>\n",
       "    </tr>\n",
       "    <tr>\n",
       "      <th>99</th>\n",
       "      <td>TRASE</td>\n",
       "      <td>Women Heeled Boots</td>\n",
       "      <td>Rs. 899Rs. 1999(55% OFF)</td>\n",
       "    </tr>\n",
       "  </tbody>\n",
       "</table>\n",
       "<p>100 rows × 3 columns</p>\n",
       "</div>"
      ],
      "text/plain": [
       "        Shoe Brand          Shoe short description                 Shoe price\n",
       "0             Puma               Men Running Shoes  Rs. 2749Rs. 5499(50% OFF)\n",
       "1             Nike           Men MC Training Shoes                   Rs. 5495\n",
       "2             Puma  Men HYBRID Fuego Running Shoes  Rs. 3249Rs. 6499(50% OFF)\n",
       "3             Nike  LEGEND ESSENTIAL Training Shoe  Rs. 3820Rs. 4495(15% OFF)\n",
       "4             ALDO           Men Textured Sneakers  Rs. 6999Rs. 9999(30% OFF)\n",
       "..             ...                             ...                        ...\n",
       "95        Skechers    Men Go Walk Max- Painted Sky  Rs. 4504Rs. 5299(15% OFF)\n",
       "96      DressBerry            Women Solid Sneakers   Rs. 869Rs. 2899(70% OFF)\n",
       "97        Provogue      Men Solid Horsebit Loafers   Rs. 849Rs. 4245(80% OFF)\n",
       "98  Louis Philippe       Men Leather Driving Shoes  Rs. 2599Rs. 3999(35% OFF)\n",
       "99           TRASE              Women Heeled Boots   Rs. 899Rs. 1999(55% OFF)\n",
       "\n",
       "[100 rows x 3 columns]"
      ]
     },
     "execution_count": 97,
     "metadata": {},
     "output_type": "execute_result"
    }
   ],
   "source": [
    "df7"
   ]
  },
  {
   "cell_type": "markdown",
   "id": "0b1a94ec",
   "metadata": {},
   "source": [
    "# Q8: Go to webpage https://www.amazon.in/\n",
    "Enter “Laptop” in the search field and then click the search icon.\n",
    "Then set CPU Type filter to “Intel Core i7” and “Intel Core i9” as shown in the below image:\n",
    "\n",
    "After setting the filters scrape first 10 laptops data. You have to scrape 3 attributesfor each laptop:\n",
    "1. Title\n",
    "2. Ratings\n",
    "3. Price\n",
    "As shown in the below image as the tick marked attributes"
   ]
  },
  {
   "cell_type": "code",
   "execution_count": 98,
   "id": "b357bd6b",
   "metadata": {},
   "outputs": [],
   "source": [
    "#lets first connect to the web driver\n",
    "driver8 = webdriver.Chrome(\"C:\\\\Users\\\\hema\\\\OneDrive\\\\Documents\\\\chromedriver_win32\\\\chromedriver.exe\")"
   ]
  },
  {
   "cell_type": "code",
   "execution_count": 99,
   "id": "e00101f1",
   "metadata": {},
   "outputs": [],
   "source": [
    "driver8.get('https://www.amazon.in/')"
   ]
  },
  {
   "cell_type": "code",
   "execution_count": 100,
   "id": "d322fb6e",
   "metadata": {},
   "outputs": [],
   "source": [
    "#get_field =driver8.find_element_by_xpath(\"/html/body/div[2]/header/div/div[1]/div[2]/div/form/div[2]/div[1]/input\")\n",
    "#get_field.send_keys(\"laptop\")\n",
    "\n",
    "\n",
    "get_field =driver8.find_element_by_xpath(\"//input[@class='nav-input nav-progressive-attribute']\")\n",
    "get_field.send_keys(\"laptop\")"
   ]
  },
  {
   "cell_type": "code",
   "execution_count": 101,
   "id": "0a16a332",
   "metadata": {},
   "outputs": [],
   "source": [
    "#click on the search button\n",
    "search_field =driver8.find_element_by_xpath(\"//div[@class='nav-search-submit nav-sprite']\")\n",
    "search_field.submit()"
   ]
  },
  {
   "cell_type": "code",
   "execution_count": 102,
   "id": "35370322",
   "metadata": {},
   "outputs": [],
   "source": [
    "title_i7 =[]\n",
    "Ratings=[]\n",
    "price=[]"
   ]
  },
  {
   "cell_type": "code",
   "execution_count": 103,
   "id": "893c2eca",
   "metadata": {},
   "outputs": [],
   "source": [
    "#scrapping data for intel cor i7\n",
    "\n",
    "cpu_type= driver8.find_element_by_xpath(\"//span[text()='Intel Core i7']\")\n",
    "cpu_type.click()\n"
   ]
  },
  {
   "cell_type": "code",
   "execution_count": 104,
   "id": "2cd59a38",
   "metadata": {},
   "outputs": [],
   "source": [
    "core_i7_title = driver8.find_elements_by_xpath(\"//h2[@class='a-size-mini a-spacing-none a-color-base s-line-clamp-2']\")"
   ]
  },
  {
   "cell_type": "code",
   "execution_count": 105,
   "id": "63568f95",
   "metadata": {},
   "outputs": [],
   "source": [
    "for a in core_i7_title:\n",
    "    title=a.text\n",
    "    title_i7.append(title)\n"
   ]
  },
  {
   "cell_type": "code",
   "execution_count": 58,
   "id": "efcb10fd",
   "metadata": {},
   "outputs": [
    {
     "data": {
      "text/plain": [
       "['Samsung Galaxy Book2 Pro 360 Intel 12th Gen i7 EvoTM 15.6 inch Touchscreen 2-in-1 AMOLED Thin & Light Laptop (16 GB/512 GB SSD/Windows 11/MSO Home & Student 2021/Graphite/1.41Kg), NP950QED-KA1IN',\n",
       " 'Mi Notebook Ultra 3.2K Resolution Display Intel Core i7-11370H 11th Gen 15.6-inch(39.62 cm) Thin and Light Laptop (16GB/512GB SSD/Iris Xe Graphic/Win 10/MS Office 21/Backlit KB/FP Sensor/1.7Kg)',\n",
       " 'Lenovo ThinkBook 15 Intel 11th Gen Core i7 15.6\"(39.62 cm)FHD Thin and Light Laptop (16GB/512GB SSD/Windows 11 Home/MS Office H&S 2021/Iris® Xe Graphics/Backlit/Mineral Grey/1.7 Kg) 20VE00W4IH',\n",
       " 'HP Pavilion 14, 11th Gen Intel Core i7-16GB RAM/1TB SSD 14 inch(35.6 cm) Laptop/Intel Iris Xe Graphics/Backlit Keyboard/Alexa/B&O Audio/Fast Charge/FPR/Win 11/MS Office, 14-dv1029TU,Natural Silver',\n",
       " 'ASUS VivoBook 14 (2021), 14-inch (35.56 cms) FHD, Intel Core i7-1065G7 10th Gen, Thin and Light Laptop (16GB/512GB SSD/Integrated Graphics/Office 2021/Windows 11/Silver/1.6 Kg), X415JA-EK701WS',\n",
       " 'LG Gram 16 inches Intel Evo 11th Gen Core i7 Ultra-Light Laptop (16 GB RAM, 512 GB SSD, New Windows 11 Home Preload, Iris Xe Graphics, USC -C x 2 (with Power), 1.19 kg, 16Z90P-G.AH85A2, Black)',\n",
       " 'ASUS TUF Gaming F15 (2021), 15.6\" (39.62 cms) FHD 144Hz, Intel Core i7-11600H 11th Gen, 4GB RTX 3050 Graphics, Gaming Laptop (16GB/512GB SSD/Windows 10/Office 2019/Gray/2.3 Kg), FX566HCB-HN299TS',\n",
       " 'HP Pavilion 11th Gen Intel Core i7 Processor 15.6 inches FHD Gaming Laptop (16GB/512GB SSD/Windows 11/NVIDIA RTX 3050 Graphics/MS Office/ Shadow Black & Ultra Violet/2.23Kg), 15-dk2096TX',\n",
       " 'ASUS TUF Gaming F15 (2021), 15.6-inch (39.62 cms) FHD 144Hz, Intel Core i7-11800H 11th Gen, GeForce RTX 3050 4GB Graphics, Gaming Laptop (8GB/512GB SSD/Windows 10/Eclipse Gray/2.3 Kg), FX566HC-HN093T',\n",
       " 'Lenovo IdeaPad Gaming 3 Intel Core i7 10th Gen 39.62 cm (15.6\") FHD IPS 250Nits Gaming Laptop (8GB/512GB SSD/Win10/NVIDIA GTX 1650 4GB GDDR6 Graphics/120Hz/Onyx Black/2.2Kg), 81Y4019EIN',\n",
       " '(Renewed) Dell E6410 Latitude 14 Inch Screen Laptop (Intel Core i7 - M620 /4 GB/120 GB SSD/Windows 7 Pro), Black',\n",
       " '(Refurbished) Dell Intel Core i7 7th Gen 14.Inch(35.6 cms) (1920 x 1080)FHD TOUCHSCREEN Laptop (16GB RAM/512GB SSD/Windows 10 Pro/MS Office/ Intel HD Integrated Graphics/1.18Kg,Black) Latitude E7480',\n",
       " \"(Refurbished) HP EliteBook 820 G4 Laptop (CORE I5 7TH GEN/8GB/512GB SSD/WEBCAM/12.5'' TOUCH/WIN 10 PRO)\",\n",
       " '(Renewed) Dell Latitude Laptop E7480 Intel Core i7 - 7600u Processor 7th Gen, 4 GB Ram & 2TB SSD, 14.1 Inches (Ultra Slim & Feather Light 1.37KG) Notebook Computer',\n",
       " 'ASUS ROG Zephyrus M16 GU603HE-KR051TS Intel i7-11800H/ RTX3050Ti-4GB/ 16GB / 1TB SSD / 16.0 inches FHD-144hz/ Backlit KB- 1 Zone RGB/ 90Wh/ Windows 10 Home / Office Home & Student 2019/ Black, 1.9kg',\n",
       " 'ASUS ROG Zephyrus M16 (2022), 16-inch (40.64 cms) 2K QHD 165Hz/3ms, Core i7-12700H 12th Gen, RTX 3060 6GB Graphics, Gaming Laptop (16GB/1TB SSD/Win 11/Office 2021/Black/2 Kg), GU603ZM-K8035WS',\n",
       " '(Renewed) Dell Latitude Laptop E7480 Intel Core i7 - 7600u Processor 7th Gen, 4 GB Ram & 512 GB SSD, 14.1 inches Touch Screeen (Ultra Slim & Feather Light 1.37KG) Notebook Computer',\n",
       " '(Renewed) Dell Latitude Laptop E7480 Intel Core i7 - 7600u Processor 7th Gen, 4 GB Ram & 1TB SSD, 14.1 Inches (Ultra Slim & Feather Light 1.37KG) Notebook Computer',\n",
       " '(Renewed) Dell Latitude Laptop E7480 Intel Core i7 - 7600u Processor 7th Gen, 8 GB Ram & 2TB SSD, 14.1 inches Touch Screeen (Ultra Slim & Feather Light 1.37KG) Notebook Computer',\n",
       " '(Renewed) Dell Latitude Laptop E7480 Intel Core i7 - 7600u Processor 7th Gen, 8 GB Ram & 2TB SSD, 14.1 Inches (Ultra Slim & Feather Light 1.37KG) Notebook Computer',\n",
       " 'Dell Inspiron 2-in-1 13.3\" 4K UHD IPS LED-Backlight Touch-Screen Laptop, Intel Quad-Core i7-8565U Up to 4.6GHz, 16GB DDR4, 256GB PCIe SSD, Fingerprint Reader, USB 3.1-C, Backlit Keyboard, Windows 10',\n",
       " '(Renewed) Dell Latitude Laptop E7480 Intel Core i7 - 7600u Processor 7th Gen, 8 GB Ram & 512 GB SSD, 14.1 Inches (Ultra Slim & Feather Light 1.37KG) Notebook Computer',\n",
       " '(Renewed) Dell Latitude Laptop E7480 Intel Core i7 - 7600u Processor 7th Gen, 8 GB Ram & 128 GB SSD, 14.1 inches Touch Screeen (Ultra Slim & Feather Light 1.37KG) Notebook Computer',\n",
       " '(Renewed) Dell Latitude Laptop E7480 Intel Core i7 - 7600u Processor 7th Gen, 4 GB Ram & 256 GB SSD, 14.1 inches Touch Screeen (Ultra Slim & Feather Light 1.37KG) Notebook Computer',\n",
       " '(Renewed) Dell Latitude Laptop E7480 Intel Core i7 - 7600u Processor 7th Gen, 8 GB Ram & 256 GB SSD, 14.1 Inches (Ultra Slim & Feather Light 1.37KG) Notebook Computer',\n",
       " '(Renewed) Dell Latitude Laptop E7480 Intel Core i7 - 7600u Processor 7th Gen, 8 GB Ram & 256 GB SSD, 14.1 inches Touch Screeen (Ultra Slim & Feather Light 1.37KG) Notebook Computer',\n",
       " '(Renewed) Dell Latitude Laptop E7480 Intel Core i7 - 7600u Processor 7th Gen, 4 GB Ram & 1TB SSD, 14.1 inches Touch Screeen (Ultra Slim & Feather Light 1.37KG) Notebook Computer',\n",
       " '(Renewed) Dell Latitude Laptop E7480 Intel Core i7 - 7600u Processor 7th Gen, 4 GB Ram & 512 GB SSD, 14.1 Inches (Ultra Slim & Feather Light 1.37KG) Notebook Computer',\n",
       " 'Dell Alienware x15 R1 (2021) i7-11800H Gaming Laptop, 32GB, 1TB SSD, Win 11 + MSO\\'21, NVIDIA RTX 3070 8GB, 15.6\" (39.62 cms) FHD 300 nits 360Hz, Backlit KB + Alien FX, Lunar Light (D569933WIN9)',\n",
       " 'ASUS TUF Gaming F15 (2022), 15.6-inch (39.62 cms) FHD 144Hz, Intel Core i7-12700H 12th Gen, RTX 3050 Ti 4GB Graphics, Gaming Laptop (16GB/512GB SSD/Windows 11/Gray/2.2 Kg), FX507ZE-HN038W']"
      ]
     },
     "execution_count": 58,
     "metadata": {},
     "output_type": "execute_result"
    }
   ],
   "source": [
    "title_i7"
   ]
  },
  {
   "cell_type": "code",
   "execution_count": 106,
   "id": "115000c2",
   "metadata": {},
   "outputs": [],
   "source": [
    "core_i7_price = driver8.find_elements_by_xpath(\"//span[@class='a-price']\")"
   ]
  },
  {
   "cell_type": "code",
   "execution_count": 107,
   "id": "3cec02f1",
   "metadata": {},
   "outputs": [],
   "source": [
    "for b in core_i7_price:\n",
    "    pric=b.text\n",
    "    price.append(pric)\n"
   ]
  },
  {
   "cell_type": "code",
   "execution_count": 17,
   "id": "fe16291c",
   "metadata": {},
   "outputs": [
    {
     "data": {
      "text/plain": [
       "['₹1,29,990',\n",
       " '₹77,990',\n",
       " '₹86,990',\n",
       " '₹86,990',\n",
       " '₹57,310',\n",
       " '₹89,611',\n",
       " '₹89,990',\n",
       " '₹89,990',\n",
       " '₹96,990',\n",
       " '₹68,990',\n",
       " '₹19,990',\n",
       " '₹54,499',\n",
       " '₹30,990',\n",
       " '₹46,990',\n",
       " '₹1,39,363',\n",
       " '₹1,79,990',\n",
       " '₹41,990',\n",
       " '₹43,990',\n",
       " '₹51,990',\n",
       " '₹48,990',\n",
       " '₹1,35,409',\n",
       " '₹41,990',\n",
       " '₹41,990',\n",
       " '₹39,990',\n",
       " '₹39,990',\n",
       " '₹42,990',\n",
       " '₹46,990',\n",
       " '₹38,990',\n",
       " '₹2,94,895',\n",
       " '₹1,16,990']"
      ]
     },
     "execution_count": 17,
     "metadata": {},
     "output_type": "execute_result"
    }
   ],
   "source": [
    "price"
   ]
  },
  {
   "cell_type": "code",
   "execution_count": 108,
   "id": "89f01974",
   "metadata": {},
   "outputs": [],
   "source": [
    "core_i7_rating = driver8.find_elements_by_xpath(\"//a[@class='a-popover-trigger a-declarative']/span[1]\")\n",
    "\n",
    "#//li[@class='fleft grey-text br2 placeHolderLi date']/span[1]\")"
   ]
  },
  {
   "cell_type": "code",
   "execution_count": 109,
   "id": "744cb30d",
   "metadata": {},
   "outputs": [],
   "source": [
    "for c in core_i7_rating:\n",
    "    rat=c.text\n",
    "    Ratings.append(rat)"
   ]
  },
  {
   "cell_type": "code",
   "execution_count": 110,
   "id": "b54b1eb0",
   "metadata": {},
   "outputs": [
    {
     "data": {
      "text/plain": [
       "[]"
      ]
     },
     "execution_count": 110,
     "metadata": {},
     "output_type": "execute_result"
    }
   ],
   "source": [
    "Ratings"
   ]
  },
  {
   "cell_type": "code",
   "execution_count": 111,
   "id": "239dfc89",
   "metadata": {},
   "outputs": [
    {
     "name": "stdout",
     "output_type": "stream",
     "text": [
      "30 0 30\n"
     ]
    }
   ],
   "source": [
    "print(len(title_i7),len(Ratings),len(price))"
   ]
  },
  {
   "cell_type": "code",
   "execution_count": 114,
   "id": "cdcd7819",
   "metadata": {},
   "outputs": [],
   "source": [
    "df8 =pd.DataFrame({})\n",
    "df8['Title'] =title_i7\n",
    "df8['Price']= price\n",
    "#df8['Ratings']=Ratings"
   ]
  },
  {
   "cell_type": "code",
   "execution_count": 116,
   "id": "424a5d34",
   "metadata": {},
   "outputs": [
    {
     "data": {
      "text/html": [
       "<div>\n",
       "<style scoped>\n",
       "    .dataframe tbody tr th:only-of-type {\n",
       "        vertical-align: middle;\n",
       "    }\n",
       "\n",
       "    .dataframe tbody tr th {\n",
       "        vertical-align: top;\n",
       "    }\n",
       "\n",
       "    .dataframe thead th {\n",
       "        text-align: right;\n",
       "    }\n",
       "</style>\n",
       "<table border=\"1\" class=\"dataframe\">\n",
       "  <thead>\n",
       "    <tr style=\"text-align: right;\">\n",
       "      <th></th>\n",
       "      <th>Title</th>\n",
       "      <th>Price</th>\n",
       "    </tr>\n",
       "  </thead>\n",
       "  <tbody>\n",
       "    <tr>\n",
       "      <th>0</th>\n",
       "      <td>Samsung Galaxy Book2 Pro 360 Intel 12th Gen i7...</td>\n",
       "      <td>₹1,29,990</td>\n",
       "    </tr>\n",
       "    <tr>\n",
       "      <th>1</th>\n",
       "      <td>Mi Notebook Ultra 3.2K Resolution Display Inte...</td>\n",
       "      <td>₹77,990</td>\n",
       "    </tr>\n",
       "    <tr>\n",
       "      <th>2</th>\n",
       "      <td>Lenovo ThinkBook 15 Intel 11th Gen Core i7 15....</td>\n",
       "      <td>₹86,990</td>\n",
       "    </tr>\n",
       "    <tr>\n",
       "      <th>3</th>\n",
       "      <td>ASUS VivoBook 14 (2021), 14-inch (35.56 cms) F...</td>\n",
       "      <td>₹57,310</td>\n",
       "    </tr>\n",
       "    <tr>\n",
       "      <th>4</th>\n",
       "      <td>HP Pavilion 14, 11th Gen Intel Core i7-16GB RA...</td>\n",
       "      <td>₹86,990</td>\n",
       "    </tr>\n",
       "    <tr>\n",
       "      <th>5</th>\n",
       "      <td>LG Gram 16 inches Intel Evo 11th Gen Core i7 U...</td>\n",
       "      <td>₹1,01,112</td>\n",
       "    </tr>\n",
       "    <tr>\n",
       "      <th>6</th>\n",
       "      <td>ASUS TUF Gaming F15 (2021), 15.6\" (39.62 cms) ...</td>\n",
       "      <td>₹89,990</td>\n",
       "    </tr>\n",
       "    <tr>\n",
       "      <th>7</th>\n",
       "      <td>HP Pavilion x360 11th Gen Intel Core i7 14 inc...</td>\n",
       "      <td>₹86,990</td>\n",
       "    </tr>\n",
       "    <tr>\n",
       "      <th>8</th>\n",
       "      <td>HP Pavilion 11th Gen Intel Core i7 Processor 1...</td>\n",
       "      <td>₹89,990</td>\n",
       "    </tr>\n",
       "    <tr>\n",
       "      <th>9</th>\n",
       "      <td>(Renewed) Dell E6410 Latitude 14 Inch Screen L...</td>\n",
       "      <td>₹19,990</td>\n",
       "    </tr>\n",
       "  </tbody>\n",
       "</table>\n",
       "</div>"
      ],
      "text/plain": [
       "                                               Title      Price\n",
       "0  Samsung Galaxy Book2 Pro 360 Intel 12th Gen i7...  ₹1,29,990\n",
       "1  Mi Notebook Ultra 3.2K Resolution Display Inte...    ₹77,990\n",
       "2  Lenovo ThinkBook 15 Intel 11th Gen Core i7 15....    ₹86,990\n",
       "3  ASUS VivoBook 14 (2021), 14-inch (35.56 cms) F...    ₹57,310\n",
       "4  HP Pavilion 14, 11th Gen Intel Core i7-16GB RA...    ₹86,990\n",
       "5  LG Gram 16 inches Intel Evo 11th Gen Core i7 U...  ₹1,01,112\n",
       "6  ASUS TUF Gaming F15 (2021), 15.6\" (39.62 cms) ...    ₹89,990\n",
       "7  HP Pavilion x360 11th Gen Intel Core i7 14 inc...    ₹86,990\n",
       "8  HP Pavilion 11th Gen Intel Core i7 Processor 1...    ₹89,990\n",
       "9  (Renewed) Dell E6410 Latitude 14 Inch Screen L...    ₹19,990"
      ]
     },
     "execution_count": 116,
     "metadata": {},
     "output_type": "execute_result"
    }
   ],
   "source": [
    "df8.head(10)"
   ]
  },
  {
   "cell_type": "markdown",
   "id": "dd8591a0",
   "metadata": {},
   "source": [
    "# Q9. Write a python program to scrape data for first 10 job results for Data Scientist Designation in Noida location. You have to scrape company name, No. of days ago when job was posted, Rating of the company.\n",
    "This task will be done in following steps:\n",
    "1. First get the webpage https://www.ambitionbox.com/\n",
    "2. Click on the Job option as shown in the image\n",
    "3. After reaching to the next webpage, In place of “Search by Designations, Companies, Skills” enter\n",
    "“Data Scientist” and click on search button.\n",
    "4. You will reach to the following web page click on location and in place of “Search location” enter\n",
    "“Noida” and select location “Noida”.\n",
    "5. Then scrape the data for the first 10 jobs results you get on the above shown page.\n",
    "6. Finally create a dataframe of the scraped data\n",
    "\n"
   ]
  },
  {
   "cell_type": "code",
   "execution_count": 117,
   "id": "6fca0302",
   "metadata": {},
   "outputs": [],
   "source": [
    "#lets first connect to the web driver\n",
    "driver9 = webdriver.Chrome(\"C:\\\\Users\\\\hema\\\\OneDrive\\\\Documents\\\\chromedriver_win32\\\\chromedriver.exe\")"
   ]
  },
  {
   "cell_type": "code",
   "execution_count": 118,
   "id": "a8d4e214",
   "metadata": {},
   "outputs": [],
   "source": [
    "driver9.get('https://www.ambitionbox.com/')"
   ]
  },
  {
   "cell_type": "code",
   "execution_count": 119,
   "id": "7cb78fcd",
   "metadata": {},
   "outputs": [],
   "source": [
    "#click on the job option \n",
    "\n",
    "jobs = driver9.find_element_by_xpath(\"//a[@class='link jobs']\").click()"
   ]
  },
  {
   "cell_type": "code",
   "execution_count": 120,
   "id": "0ac171d4",
   "metadata": {},
   "outputs": [],
   "source": [
    "#search the designation as data scientist\n",
    "get_field =driver9.find_element_by_xpath(\"//input[@title='Enter Designation, Company or a Skill']\")\n",
    "get_field.send_keys(\"Data Scientist\")\n"
   ]
  },
  {
   "cell_type": "code",
   "execution_count": 121,
   "id": "fd5434fe",
   "metadata": {},
   "outputs": [],
   "source": [
    "#click on the search button\n",
    "search = driver9.find_element_by_xpath(\"//span[@class='ctas-btn-medium']\")\n",
    "search.click()"
   ]
  },
  {
   "cell_type": "code",
   "execution_count": 122,
   "id": "c7c1e43b",
   "metadata": {},
   "outputs": [],
   "source": [
    "#find the location as 'Noida'\n",
    "\n",
    "location9=driver9.find_element_by_xpath(\"//div[@title='Location']\").click()"
   ]
  },
  {
   "cell_type": "code",
   "execution_count": 123,
   "id": "4e7ed474",
   "metadata": {},
   "outputs": [],
   "source": [
    "#search location as noida\n",
    "\n",
    "#search_location = driver9.find_element_by_xpath(\"//div[@class='searchbox']'\")\n",
    "#search_location.send_keys('Noida')\n",
    "\n",
    "url ='https://www.ambitionbox.com/jobs/search?tag=data%20analyst&location=Noida'"
   ]
  },
  {
   "cell_type": "code",
   "execution_count": 165,
   "id": "c3cf3ba5",
   "metadata": {},
   "outputs": [],
   "source": [
    "company_name=[]\n",
    "No_of_days=[]\n",
    "company_rating= []"
   ]
  },
  {
   "cell_type": "code",
   "execution_count": 127,
   "id": "d2cbf4e5",
   "metadata": {},
   "outputs": [
    {
     "data": {
      "text/plain": [
       "[<selenium.webdriver.remote.webelement.WebElement (session=\"7b8524c3e5aeab86803fae427318700e\", element=\"04d5cf2b-c134-4c50-8328-2f15ad4ff53b\")>,\n",
       " <selenium.webdriver.remote.webelement.WebElement (session=\"7b8524c3e5aeab86803fae427318700e\", element=\"20f46f22-123c-4cf3-8c5a-cb6f0fc96b3e\")>,\n",
       " <selenium.webdriver.remote.webelement.WebElement (session=\"7b8524c3e5aeab86803fae427318700e\", element=\"714c0327-387e-459f-be93-94ff6e53a9d0\")>,\n",
       " <selenium.webdriver.remote.webelement.WebElement (session=\"7b8524c3e5aeab86803fae427318700e\", element=\"2fc0bbfe-4191-4908-a2da-41f92ed07517\")>,\n",
       " <selenium.webdriver.remote.webelement.WebElement (session=\"7b8524c3e5aeab86803fae427318700e\", element=\"0b0147e6-f8c5-43a9-803f-944de7d5c7be\")>,\n",
       " <selenium.webdriver.remote.webelement.WebElement (session=\"7b8524c3e5aeab86803fae427318700e\", element=\"ac3361a6-ca13-487a-8137-a1d6bdce589c\")>,\n",
       " <selenium.webdriver.remote.webelement.WebElement (session=\"7b8524c3e5aeab86803fae427318700e\", element=\"74a1cac4-b60e-45ae-862b-aef62195feaa\")>,\n",
       " <selenium.webdriver.remote.webelement.WebElement (session=\"7b8524c3e5aeab86803fae427318700e\", element=\"98447d69-4097-48b0-a46e-02e88fcc9a8d\")>,\n",
       " <selenium.webdriver.remote.webelement.WebElement (session=\"7b8524c3e5aeab86803fae427318700e\", element=\"725b6043-eb4f-40ae-8058-a5cd0dbcf272\")>,\n",
       " <selenium.webdriver.remote.webelement.WebElement (session=\"7b8524c3e5aeab86803fae427318700e\", element=\"9509dc05-c15d-4132-a03a-1d636cb42b1d\")>]"
      ]
     },
     "execution_count": 127,
     "metadata": {},
     "output_type": "execute_result"
    }
   ],
   "source": [
    "comp =driver9.find_elements_by_xpath(\"//p[@class='company body-medium']\")\n",
    "comp"
   ]
  },
  {
   "cell_type": "code",
   "execution_count": 128,
   "id": "d8dde15c",
   "metadata": {},
   "outputs": [],
   "source": [
    "for i in comp:\n",
    "    comp1=i.text\n",
    "    company_name.append(comp1)"
   ]
  },
  {
   "cell_type": "code",
   "execution_count": 129,
   "id": "fc58b43f",
   "metadata": {},
   "outputs": [
    {
     "data": {
      "text/plain": [
       "['TOTAL MARKETING SUPPORT INDIA PRIVATE LIMITED',\n",
       " 'Rupeek',\n",
       " 'NIRVANA SOLUTIONS INDIA PRIVATE LIMITED',\n",
       " 'Pramerica Life',\n",
       " 'KOZENT TEC PRIVATE LIMITED',\n",
       " 'Concentrix Services India Private Limited.',\n",
       " 'Info Edge India',\n",
       " 'Also Energy',\n",
       " 'Redian Software Pvt Ltd',\n",
       " 'IB Monotaro Private Limited',\n",
       " 'West Wind Retail Pvt. Ltd.',\n",
       " 'AMERICAN EXPRESS',\n",
       " 'Fareportal',\n",
       " 'Protiviti Consulting',\n",
       " 'CarDekho',\n",
       " 'Optum',\n",
       " 'D2 Retro',\n",
       " 'Contactx India',\n",
       " 'Porteck India Infoservices',\n",
       " 'doubledutch',\n",
       " 'GENPACT India Private Limited',\n",
       " 'GENPACT India Private Limited',\n",
       " 'Tech Mahindra Ltd',\n",
       " 'GENPACT India Private Limited',\n",
       " 'HCL Technologies',\n",
       " 'Bristlecone India Limited',\n",
       " 'Zyoin',\n",
       " 'Newgen Software Technologies Ltd.',\n",
       " 'Pitney Bowes India Pvt Ltd',\n",
       " 'JK Technosoft Ltd']"
      ]
     },
     "execution_count": 129,
     "metadata": {},
     "output_type": "execute_result"
    }
   ],
   "source": [
    "company_name"
   ]
  },
  {
   "cell_type": "code",
   "execution_count": 142,
   "id": "b1d8e395",
   "metadata": {},
   "outputs": [
    {
     "ename": "SyntaxError",
     "evalue": "cannot assign to operator (<ipython-input-142-2e3882e42376>, line 1)",
     "output_type": "error",
     "traceback": [
      "\u001b[1;36m  File \u001b[1;32m\"<ipython-input-142-2e3882e42376>\"\u001b[1;36m, line \u001b[1;32m1\u001b[0m\n\u001b[1;33m    comp-rating=driver9.find_elements_by_xpath(\"//div[@class='rating-wrapper']\")\u001b[0m\n\u001b[1;37m    ^\u001b[0m\n\u001b[1;31mSyntaxError\u001b[0m\u001b[1;31m:\u001b[0m cannot assign to operator\n"
     ]
    }
   ],
   "source": [
    "comp-rating=driver9.find_elements_by_xpath(\"//div[@class='rating-wrapper']\")"
   ]
  },
  {
   "cell_type": "code",
   "execution_count": 138,
   "id": "20b73d6e",
   "metadata": {},
   "outputs": [
    {
     "ename": "SyntaxError",
     "evalue": "cannot assign to operator (<ipython-input-138-a14fc9a8c46c>, line 1)",
     "output_type": "error",
     "traceback": [
      "\u001b[1;36m  File \u001b[1;32m\"<ipython-input-138-a14fc9a8c46c>\"\u001b[1;36m, line \u001b[1;32m1\u001b[0m\n\u001b[1;33m    comp-exp=driver9.find_element_by_xpath(\"//p[@class='body-small-l']\")\u001b[0m\n\u001b[1;37m    ^\u001b[0m\n\u001b[1;31mSyntaxError\u001b[0m\u001b[1;31m:\u001b[0m cannot assign to operator\n"
     ]
    }
   ],
   "source": [
    "comp-exp=driver9.find_element_by_xpath(\"//p[@class='body-small-l']\")"
   ]
  },
  {
   "cell_type": "markdown",
   "id": "bece61cf",
   "metadata": {},
   "source": [
    "# Q 10: Write a python program to scrape the salary data for Data Scientist designation.\n",
    "You have to scrape Company name, Number of salaries, Average salary, Minsalary, Max Salary.\n",
    "The above task will be, done as shown in the below steps:\n",
    "1. First get the webpage https://www.ambitionbox.com/\n",
    "2. Click on the salaries option as shown in the image.\n",
    "3. After reaching to the following webpage, In place of “Search Job Profile” enters “Data Scientist” and\n",
    "then click on “Data Scientist”\n",
    "4. Scrape the data for the first 10 companies. Scrape the company name, total salary record, average\n",
    "salary, minimum salary, maximum salary, experience required.\n",
    "5. Store the data in a dataframe."
   ]
  },
  {
   "cell_type": "code",
   "execution_count": 156,
   "id": "e66a64c0",
   "metadata": {},
   "outputs": [],
   "source": [
    "#lets first connect to the web driver\n",
    "driver10 = webdriver.Chrome(\"C:\\\\Users\\\\hema\\\\OneDrive\\\\Documents\\\\chromedriver_win32\\\\chromedriver.exe\")"
   ]
  },
  {
   "cell_type": "code",
   "execution_count": 157,
   "id": "8a1a4610",
   "metadata": {},
   "outputs": [],
   "source": [
    "driver10.get('https://www.ambitionbox.com/')"
   ]
  },
  {
   "cell_type": "code",
   "execution_count": 158,
   "id": "a943bffb",
   "metadata": {},
   "outputs": [],
   "source": [
    "#click on the salary option \n",
    "\n",
    "jobs = driver10.find_element_by_xpath(\"//a[@class='link salaries']\").click()"
   ]
  },
  {
   "cell_type": "code",
   "execution_count": 159,
   "id": "8b3b31bd",
   "metadata": {},
   "outputs": [],
   "source": [
    "#search the designation as data scientist\n",
    "get_field =driver10.find_element_by_xpath(\"//input[@title='Enter a Company or Designation']\")\n",
    "get_field.send_keys(\"Data Scientist\")\n"
   ]
  },
  {
   "cell_type": "code",
   "execution_count": 160,
   "id": "8afd7e0e",
   "metadata": {},
   "outputs": [],
   "source": [
    "#click on the search button\n",
    "search = driver10.find_element_by_xpath(\"//button[@class='ab_btn search-btn round component-search-btn']\")\n",
    "search.click()"
   ]
  },
  {
   "cell_type": "code",
   "execution_count": 154,
   "id": "1685d8b9",
   "metadata": {},
   "outputs": [],
   "source": [
    "#url =\"https://https://www.ambitionbox.com/salaries\""
   ]
  },
  {
   "cell_type": "code",
   "execution_count": 169,
   "id": "ba08b07b",
   "metadata": {},
   "outputs": [],
   "source": [
    "title_name=[]\n",
    "total_salary_record=[]\n",
    "average_salary=[]\n",
    "minimum_salary=[]\n",
    "Maximum_salary=[]\n",
    "experience =[]\n"
   ]
  },
  {
   "cell_type": "code",
   "execution_count": 170,
   "id": "03fcb086",
   "metadata": {},
   "outputs": [],
   "source": [
    "tit = driver10.find_elements_by_xpath(\"//a[@class='gs-title']\")"
   ]
  },
  {
   "cell_type": "code",
   "execution_count": 171,
   "id": "f8670234",
   "metadata": {},
   "outputs": [
    {
     "data": {
      "text/plain": [
       "[<selenium.webdriver.remote.webelement.WebElement (session=\"a371d49f936e0b54e399cda6a21a540e\", element=\"02cbafce-759e-4910-882f-855dbbd2208a\")>,\n",
       " <selenium.webdriver.remote.webelement.WebElement (session=\"a371d49f936e0b54e399cda6a21a540e\", element=\"dd0f8530-ce1b-4600-b795-5fd9e5b299c0\")>,\n",
       " <selenium.webdriver.remote.webelement.WebElement (session=\"a371d49f936e0b54e399cda6a21a540e\", element=\"e5f2927b-535d-4a3c-ac3e-79a475b6d026\")>,\n",
       " <selenium.webdriver.remote.webelement.WebElement (session=\"a371d49f936e0b54e399cda6a21a540e\", element=\"194cf6ba-8b8c-4d9b-9b27-452573d96f4f\")>,\n",
       " <selenium.webdriver.remote.webelement.WebElement (session=\"a371d49f936e0b54e399cda6a21a540e\", element=\"4990e33c-5161-4621-bc08-7efe5851898f\")>,\n",
       " <selenium.webdriver.remote.webelement.WebElement (session=\"a371d49f936e0b54e399cda6a21a540e\", element=\"dd531d9d-7c6d-4fb1-a123-00e831b22544\")>,\n",
       " <selenium.webdriver.remote.webelement.WebElement (session=\"a371d49f936e0b54e399cda6a21a540e\", element=\"25fe5edb-483b-4633-9a7d-ae428ef168b9\")>,\n",
       " <selenium.webdriver.remote.webelement.WebElement (session=\"a371d49f936e0b54e399cda6a21a540e\", element=\"beba30ac-272e-4cc3-9f96-14f273549fd7\")>,\n",
       " <selenium.webdriver.remote.webelement.WebElement (session=\"a371d49f936e0b54e399cda6a21a540e\", element=\"d8ed68e2-e54a-4b61-aac7-28ed890716e4\")>,\n",
       " <selenium.webdriver.remote.webelement.WebElement (session=\"a371d49f936e0b54e399cda6a21a540e\", element=\"81f3e95d-a6a8-4a39-8d91-0bce74ee08cf\")>,\n",
       " <selenium.webdriver.remote.webelement.WebElement (session=\"a371d49f936e0b54e399cda6a21a540e\", element=\"98f98b12-8091-48b3-9812-f34ffeb64962\")>,\n",
       " <selenium.webdriver.remote.webelement.WebElement (session=\"a371d49f936e0b54e399cda6a21a540e\", element=\"70a7e16a-83d1-4b33-a555-1e61eee443f5\")>,\n",
       " <selenium.webdriver.remote.webelement.WebElement (session=\"a371d49f936e0b54e399cda6a21a540e\", element=\"24ccdf55-e02b-44ca-84de-4ae27dcee8ac\")>,\n",
       " <selenium.webdriver.remote.webelement.WebElement (session=\"a371d49f936e0b54e399cda6a21a540e\", element=\"5d5fbc1c-9ca5-43f0-ae1e-6bc873634e87\")>,\n",
       " <selenium.webdriver.remote.webelement.WebElement (session=\"a371d49f936e0b54e399cda6a21a540e\", element=\"1445859e-b8b0-451b-9961-f5188e37d40b\")>,\n",
       " <selenium.webdriver.remote.webelement.WebElement (session=\"a371d49f936e0b54e399cda6a21a540e\", element=\"12d53b2d-e0c7-4112-86ae-e352ab841e02\")>,\n",
       " <selenium.webdriver.remote.webelement.WebElement (session=\"a371d49f936e0b54e399cda6a21a540e\", element=\"9dd8dbed-0f7a-4ea0-89da-a8268fc6a251\")>,\n",
       " <selenium.webdriver.remote.webelement.WebElement (session=\"a371d49f936e0b54e399cda6a21a540e\", element=\"c7d99d85-1699-49eb-9dbd-58b8ae8239ff\")>,\n",
       " <selenium.webdriver.remote.webelement.WebElement (session=\"a371d49f936e0b54e399cda6a21a540e\", element=\"f3a6180f-803e-4454-b68c-93468cf6cade\")>,\n",
       " <selenium.webdriver.remote.webelement.WebElement (session=\"a371d49f936e0b54e399cda6a21a540e\", element=\"2e473e52-caac-4e9d-a790-afc1bc33ffd4\")>,\n",
       " <selenium.webdriver.remote.webelement.WebElement (session=\"a371d49f936e0b54e399cda6a21a540e\", element=\"ccfaa2e1-992c-4411-be7c-188f16865131\")>,\n",
       " <selenium.webdriver.remote.webelement.WebElement (session=\"a371d49f936e0b54e399cda6a21a540e\", element=\"9f8ef8a1-fb78-46e9-8150-b2eb4e4071f4\")>,\n",
       " <selenium.webdriver.remote.webelement.WebElement (session=\"a371d49f936e0b54e399cda6a21a540e\", element=\"1cc53ea6-4d58-4c70-8d12-b5a8df79112b\")>]"
      ]
     },
     "execution_count": 171,
     "metadata": {},
     "output_type": "execute_result"
    }
   ],
   "source": [
    "tit"
   ]
  },
  {
   "cell_type": "code",
   "execution_count": 174,
   "id": "051d33d8",
   "metadata": {},
   "outputs": [],
   "source": [
    "for i in tit:\n",
    "    comp1=i.text\n",
    "    title_name.append(comp1)"
   ]
  },
  {
   "cell_type": "code",
   "execution_count": 175,
   "id": "fe36f9b8",
   "metadata": {},
   "outputs": [
    {
     "data": {
      "text/plain": [
       "['Lead Data Scientist Salary in India | AmbitionBox',\n",
       " '',\n",
       " 'Data Scientist Salary in Bengaluru/Bangalore | AmbitionBox',\n",
       " '',\n",
       " 'Senior Data Scientist Salary in India | AmbitionBox',\n",
       " '',\n",
       " 'Concentrix Corporation Data Scientist Salaries in India | AmbitionBox',\n",
       " '',\n",
       " 'Cyient Insights Data Scientist Salaries in India | AmbitionBox',\n",
       " '',\n",
       " 'Verizon Data Scientist Salaries in India | AmbitionBox',\n",
       " '',\n",
       " 'HERE Technologies Lead Data Scientist Salaries in India ...',\n",
       " '',\n",
       " \"Lowe's Data Scientist Salaries in India | AmbitionBox\",\n",
       " '',\n",
       " 'Indegene Data Scientist Salaries in India | AmbitionBox',\n",
       " '',\n",
       " 'Data Scientist Salary in Gurgaon/Gurugram | AmbitionBox',\n",
       " '',\n",
       " '',\n",
       " '',\n",
       " '',\n",
       " 'Lead Data Scientist Salary in India | AmbitionBox',\n",
       " '',\n",
       " 'Data Scientist Salary in Bengaluru/Bangalore | AmbitionBox',\n",
       " '',\n",
       " 'Senior Data Scientist Salary in India | AmbitionBox',\n",
       " '',\n",
       " 'Concentrix Corporation Data Scientist Salaries in India | AmbitionBox',\n",
       " '',\n",
       " 'Cyient Insights Data Scientist Salaries in India | AmbitionBox',\n",
       " '',\n",
       " 'Verizon Data Scientist Salaries in India | AmbitionBox',\n",
       " '',\n",
       " 'HERE Technologies Lead Data Scientist Salaries in India ...',\n",
       " '',\n",
       " \"Lowe's Data Scientist Salaries in India | AmbitionBox\",\n",
       " '',\n",
       " 'Indegene Data Scientist Salaries in India | AmbitionBox',\n",
       " '',\n",
       " 'Data Scientist Salary in Gurgaon/Gurugram | AmbitionBox',\n",
       " '',\n",
       " '',\n",
       " '',\n",
       " '']"
      ]
     },
     "execution_count": 175,
     "metadata": {},
     "output_type": "execute_result"
    }
   ],
   "source": [
    "title_name"
   ]
  },
  {
   "cell_type": "code",
   "execution_count": null,
   "id": "05663455",
   "metadata": {},
   "outputs": [],
   "source": []
  }
 ],
 "metadata": {
  "kernelspec": {
   "display_name": "Python 3",
   "language": "python",
   "name": "python3"
  },
  "language_info": {
   "codemirror_mode": {
    "name": "ipython",
    "version": 3
   },
   "file_extension": ".py",
   "mimetype": "text/x-python",
   "name": "python",
   "nbconvert_exporter": "python",
   "pygments_lexer": "ipython3",
   "version": "3.8.8"
  }
 },
 "nbformat": 4,
 "nbformat_minor": 5
}
